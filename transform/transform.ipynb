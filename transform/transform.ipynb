{
 "cells": [
  {
   "cell_type": "code",
   "execution_count": 114,
   "metadata": {
    "collapsed": true
   },
   "outputs": [],
   "source": [
    "import pandas as pd\n",
    "import os"
   ]
  },
  {
   "cell_type": "markdown",
   "metadata": {},
   "source": [
    "# Importing csv files"
   ]
  },
  {
   "cell_type": "code",
   "execution_count": 115,
   "metadata": {},
   "outputs": [],
   "source": [
    "base_path = './../extract/extracoes'"
   ]
  },
  {
   "cell_type": "code",
   "execution_count": 116,
   "metadata": {},
   "outputs": [
    {
     "name": "stdout",
     "output_type": "stream",
     "text": [
      "['Biografia.csv', 'Negócios e Empreendedorismo.csv', 'Terror.csv', 'Tecnologia.csv', 'Ficção Científica.csv', 'Economia.csv', 'Desenvolvimento Pessoal.csv', 'Ciências.csv', 'Romance.csv']\n"
     ]
    }
   ],
   "source": [
    "file_names = []\n",
    "for root, dirs, files in os.walk(base_path):\n",
    "    file_names = files\n",
    "print(file_names)"
   ]
  },
  {
   "cell_type": "code",
   "execution_count": 117,
   "metadata": {},
   "outputs": [
    {
     "name": "stdout",
     "output_type": "stream",
     "text": [
      "['./../extract/extracoes/Biografia.csv', './../extract/extracoes/Negócios e Empreendedorismo.csv', './../extract/extracoes/Terror.csv', './../extract/extracoes/Tecnologia.csv', './../extract/extracoes/Ficção Científica.csv', './../extract/extracoes/Economia.csv', './../extract/extracoes/Desenvolvimento Pessoal.csv', './../extract/extracoes/Ciências.csv', './../extract/extracoes/Romance.csv']\n"
     ]
    }
   ],
   "source": [
    "file_paths = []\n",
    "for file in file_names:\n",
    "    file_paths.append(base_path+'/'+file)\n",
    "print(file_paths)"
   ]
  },
  {
   "cell_type": "code",
   "execution_count": 118,
   "metadata": {},
   "outputs": [
    {
     "data": {
      "text/plain": "   Unnamed: 0                                             titulo     preco   \n0           0                        Cabeça Fria, Coração Quente  R$ 40,41  \\\n1           1                  Quem tem medo do feminismo negro?  R$ 19,90   \n2           2  O rei dos dividendos: A saga do filho de imigr...  R$ 31,41   \n3           3                                     Minha história  R$ 39,90   \n4           4  A menina da montanha: A trajetória real da ame...  R$ 28,40   \n5           5                                        O que sobra  R$ 23,94   \n6           6                                    Em busca de mim  R$ 18,56   \n7           7     Ideias para adiar o fim do mundo (Nova edição)  R$ 16,90   \n8           8          Todo dia a mesma noite (série da Netflix)  R$ 31,41   \n9           9  O Diário de Anne Frank (Clássicos da literatur...   R$ 8,91   \n\n                                           descricao      paginas     idioma   \n0  Escrito em primeira pessoa pela equipa técnica...  554 páginas  Português  \\\n1  Um livro essencial e urgente, pois enquanto mu...  165 páginas  Português   \n2  \"O livro que você tem em mãos é uma inspiração...  266 páginas  Português   \n3  Um relato íntimo, poderoso e inspirador da ex-...  661 páginas  Português   \n4  Eleito o livro do ano (2018) pela Amazon. Esco...  366 páginas  Português   \n5  Esta foi uma das imagens mais tocantes do sécu...  683 páginas  Português   \n6  A internacionalmente aclamada atriz Viola Davi...  317 páginas  Português   \n7  Uma parábola sobre os tempos atuais, por um de...   73 páginas  Português   \n8  Reportagem definitiva sobre o incêndio na Boat...  202 páginas  Português   \n9  É a história real de uma garota judia de 13 an...  266 páginas  Português   \n\n                                          editora             autor   \n0          Garoa Livros; 1ª edição (8 março 2022)     Abel Ferreira  \\\n1  Companhia das Letras; 1ª edição (8 junho 2018)   Djamila Ribeiro   \n2              Editora Sextante (25 outubro 2022)  Luiz Barsi Filho   \n3          Objetiva; 1ª edição (13 novembro 2018)    Michelle Obama   \n4     Rocco Digital; 1ª edição (10 setembro 2018)     Tara Westover   \n5           Objetiva; 1ª edição (10 janeiro 2023)    Príncipe Harry   \n6           Best Seller; 1ª edição (4 julho 2022)       Viola Davis   \n7  Companhia das Letras; 2º edição (5 julho 2019)     Ailton Krenak   \n8                    Intrínseca (17 janeiro 2018)     Daniela Arbex   \n9                       Principis (14 julho 2020)        Anne Frank   \n\n      genero                                           img_link  \n0  Biografia  https://m.media-amazon.com/images/I/41lUjbBeK6...  \n1  Biografia  https://m.media-amazon.com/images/I/41ocS+To+E...  \n2  Biografia  https://m.media-amazon.com/images/I/41k6c7A-M6...  \n3  Biografia  https://m.media-amazon.com/images/I/41-NqD3Jy6...  \n4  Biografia  https://m.media-amazon.com/images/I/51UfHSbnfm...  \n5  Biografia  https://m.media-amazon.com/images/I/417WM4uIEK...  \n6  Biografia  https://m.media-amazon.com/images/I/51PfMe6pHw...  \n7  Biografia  https://m.media-amazon.com/images/I/41G3QOKGJL...  \n8  Biografia  https://m.media-amazon.com/images/I/41-ndsZp1f...  \n9  Biografia  https://m.media-amazon.com/images/I/41eve-WrCB...  ",
      "text/html": "<div>\n<style scoped>\n    .dataframe tbody tr th:only-of-type {\n        vertical-align: middle;\n    }\n\n    .dataframe tbody tr th {\n        vertical-align: top;\n    }\n\n    .dataframe thead th {\n        text-align: right;\n    }\n</style>\n<table border=\"1\" class=\"dataframe\">\n  <thead>\n    <tr style=\"text-align: right;\">\n      <th></th>\n      <th>Unnamed: 0</th>\n      <th>titulo</th>\n      <th>preco</th>\n      <th>descricao</th>\n      <th>paginas</th>\n      <th>idioma</th>\n      <th>editora</th>\n      <th>autor</th>\n      <th>genero</th>\n      <th>img_link</th>\n    </tr>\n  </thead>\n  <tbody>\n    <tr>\n      <th>0</th>\n      <td>0</td>\n      <td>Cabeça Fria, Coração Quente</td>\n      <td>R$ 40,41</td>\n      <td>Escrito em primeira pessoa pela equipa técnica...</td>\n      <td>554 páginas</td>\n      <td>Português</td>\n      <td>Garoa Livros; 1ª edição (8 março 2022)</td>\n      <td>Abel Ferreira</td>\n      <td>Biografia</td>\n      <td>https://m.media-amazon.com/images/I/41lUjbBeK6...</td>\n    </tr>\n    <tr>\n      <th>1</th>\n      <td>1</td>\n      <td>Quem tem medo do feminismo negro?</td>\n      <td>R$ 19,90</td>\n      <td>Um livro essencial e urgente, pois enquanto mu...</td>\n      <td>165 páginas</td>\n      <td>Português</td>\n      <td>Companhia das Letras; 1ª edição (8 junho 2018)</td>\n      <td>Djamila Ribeiro</td>\n      <td>Biografia</td>\n      <td>https://m.media-amazon.com/images/I/41ocS+To+E...</td>\n    </tr>\n    <tr>\n      <th>2</th>\n      <td>2</td>\n      <td>O rei dos dividendos: A saga do filho de imigr...</td>\n      <td>R$ 31,41</td>\n      <td>\"O livro que você tem em mãos é uma inspiração...</td>\n      <td>266 páginas</td>\n      <td>Português</td>\n      <td>Editora Sextante (25 outubro 2022)</td>\n      <td>Luiz Barsi Filho</td>\n      <td>Biografia</td>\n      <td>https://m.media-amazon.com/images/I/41k6c7A-M6...</td>\n    </tr>\n    <tr>\n      <th>3</th>\n      <td>3</td>\n      <td>Minha história</td>\n      <td>R$ 39,90</td>\n      <td>Um relato íntimo, poderoso e inspirador da ex-...</td>\n      <td>661 páginas</td>\n      <td>Português</td>\n      <td>Objetiva; 1ª edição (13 novembro 2018)</td>\n      <td>Michelle Obama</td>\n      <td>Biografia</td>\n      <td>https://m.media-amazon.com/images/I/41-NqD3Jy6...</td>\n    </tr>\n    <tr>\n      <th>4</th>\n      <td>4</td>\n      <td>A menina da montanha: A trajetória real da ame...</td>\n      <td>R$ 28,40</td>\n      <td>Eleito o livro do ano (2018) pela Amazon. Esco...</td>\n      <td>366 páginas</td>\n      <td>Português</td>\n      <td>Rocco Digital; 1ª edição (10 setembro 2018)</td>\n      <td>Tara Westover</td>\n      <td>Biografia</td>\n      <td>https://m.media-amazon.com/images/I/51UfHSbnfm...</td>\n    </tr>\n    <tr>\n      <th>5</th>\n      <td>5</td>\n      <td>O que sobra</td>\n      <td>R$ 23,94</td>\n      <td>Esta foi uma das imagens mais tocantes do sécu...</td>\n      <td>683 páginas</td>\n      <td>Português</td>\n      <td>Objetiva; 1ª edição (10 janeiro 2023)</td>\n      <td>Príncipe Harry</td>\n      <td>Biografia</td>\n      <td>https://m.media-amazon.com/images/I/417WM4uIEK...</td>\n    </tr>\n    <tr>\n      <th>6</th>\n      <td>6</td>\n      <td>Em busca de mim</td>\n      <td>R$ 18,56</td>\n      <td>A internacionalmente aclamada atriz Viola Davi...</td>\n      <td>317 páginas</td>\n      <td>Português</td>\n      <td>Best Seller; 1ª edição (4 julho 2022)</td>\n      <td>Viola Davis</td>\n      <td>Biografia</td>\n      <td>https://m.media-amazon.com/images/I/51PfMe6pHw...</td>\n    </tr>\n    <tr>\n      <th>7</th>\n      <td>7</td>\n      <td>Ideias para adiar o fim do mundo (Nova edição)</td>\n      <td>R$ 16,90</td>\n      <td>Uma parábola sobre os tempos atuais, por um de...</td>\n      <td>73 páginas</td>\n      <td>Português</td>\n      <td>Companhia das Letras; 2º edição (5 julho 2019)</td>\n      <td>Ailton Krenak</td>\n      <td>Biografia</td>\n      <td>https://m.media-amazon.com/images/I/41G3QOKGJL...</td>\n    </tr>\n    <tr>\n      <th>8</th>\n      <td>8</td>\n      <td>Todo dia a mesma noite (série da Netflix)</td>\n      <td>R$ 31,41</td>\n      <td>Reportagem definitiva sobre o incêndio na Boat...</td>\n      <td>202 páginas</td>\n      <td>Português</td>\n      <td>Intrínseca (17 janeiro 2018)</td>\n      <td>Daniela Arbex</td>\n      <td>Biografia</td>\n      <td>https://m.media-amazon.com/images/I/41-ndsZp1f...</td>\n    </tr>\n    <tr>\n      <th>9</th>\n      <td>9</td>\n      <td>O Diário de Anne Frank (Clássicos da literatur...</td>\n      <td>R$ 8,91</td>\n      <td>É a história real de uma garota judia de 13 an...</td>\n      <td>266 páginas</td>\n      <td>Português</td>\n      <td>Principis (14 julho 2020)</td>\n      <td>Anne Frank</td>\n      <td>Biografia</td>\n      <td>https://m.media-amazon.com/images/I/41eve-WrCB...</td>\n    </tr>\n  </tbody>\n</table>\n</div>"
     },
     "execution_count": 118,
     "metadata": {},
     "output_type": "execute_result"
    }
   ],
   "source": [
    "pd.read_csv(file_paths[0])"
   ]
  },
  {
   "cell_type": "code",
   "execution_count": 119,
   "metadata": {},
   "outputs": [
    {
     "data": {
      "text/plain": "                                               titulo     preco   \n0                         Cabeça Fria, Coração Quente  R$ 40,41  \\\n1                   Quem tem medo do feminismo negro?  R$ 19,90   \n2   O rei dos dividendos: A saga do filho de imigr...  R$ 31,41   \n3                                      Minha história  R$ 39,90   \n4   A menina da montanha: A trajetória real da ame...  R$ 28,40   \n..                                                ...       ...   \n84  Corte de névoa e fúria - Corte de espinhos e r...  R$ 37,03   \n85           O peso da glória (Clássicos C. S. Lewis)  R$ 22,41   \n86  O labirinto de fogo (As provações de Apolo Liv...  R$ 42,21   \n87             Dom Casmurro - Edição Exclusiva Amazon  R$ 14,90   \n88              A hipótese do amor: Sucesso do TikTok  R$ 29,61   \n\n                                            descricao      paginas     idioma   \n0   Escrito em primeira pessoa pela equipa técnica...  554 páginas  Português  \\\n1   Um livro essencial e urgente, pois enquanto mu...  165 páginas  Português   \n2   \"O livro que você tem em mãos é uma inspiração...  266 páginas  Português   \n3   Um relato íntimo, poderoso e inspirador da ex-...  661 páginas  Português   \n4   Eleito o livro do ano (2018) pela Amazon. Esco...  366 páginas  Português   \n..                                                ...          ...        ...   \n84  O aguardado segundo volume da saga iniciada em...  807 páginas  Português   \n85   Nos nove sermões que compõem uma de suas obra...  163 páginas  Português   \n86  No terceiro livro da série, o deus Apolo vai s...  477 páginas        NaN   \n87  Prometido para o seminário desde o nascimento,...  462 páginas  Português   \n88  Quando um namoro de mentira entre cientistas e...  453 páginas  Português   \n\n                                              editora             autor   \n0              Garoa Livros; 1ª edição (8 março 2022)     Abel Ferreira  \\\n1      Companhia das Letras; 1ª edição (8 junho 2018)   Djamila Ribeiro   \n2                  Editora Sextante (25 outubro 2022)  Luiz Barsi Filho   \n3              Objetiva; 1ª edição (13 novembro 2018)    Michelle Obama   \n4         Rocco Digital; 1ª edição (10 setembro 2018)     Tara Westover   \n..                                                ...               ...   \n84                Galera; 1ª edição (1 setembro 2016)     Sarah J. Maas   \n85  Thomas Nelson Brasil; 2º edição (18 setembro 2...       C. S. Lewis   \n86                           Intrínseca (3 maio 2018)      Rick Riordan   \n87           Antofágica; 1ª edição (12 novembro 2020)  Machado De Assis   \n88                   Editora Arqueiro (26 junho 2022)     Ali Hazelwood   \n\n       genero                                           img_link  \n0   Biografia  https://m.media-amazon.com/images/I/41lUjbBeK6...  \n1   Biografia  https://m.media-amazon.com/images/I/41ocS+To+E...  \n2   Biografia  https://m.media-amazon.com/images/I/41k6c7A-M6...  \n3   Biografia  https://m.media-amazon.com/images/I/41-NqD3Jy6...  \n4   Biografia  https://m.media-amazon.com/images/I/51UfHSbnfm...  \n..        ...                                                ...  \n84    Romance  https://m.media-amazon.com/images/I/51TMLjo+Se...  \n85    Romance  https://m.media-amazon.com/images/I/51RJmzzx9t...  \n86    Romance  https://m.media-amazon.com/images/I/51dlsLAZoB...  \n87    Romance  https://m.media-amazon.com/images/I/51PjgRe58s...  \n88    Romance  https://m.media-amazon.com/images/I/41knBs4ouO...  \n\n[89 rows x 9 columns]",
      "text/html": "<div>\n<style scoped>\n    .dataframe tbody tr th:only-of-type {\n        vertical-align: middle;\n    }\n\n    .dataframe tbody tr th {\n        vertical-align: top;\n    }\n\n    .dataframe thead th {\n        text-align: right;\n    }\n</style>\n<table border=\"1\" class=\"dataframe\">\n  <thead>\n    <tr style=\"text-align: right;\">\n      <th></th>\n      <th>titulo</th>\n      <th>preco</th>\n      <th>descricao</th>\n      <th>paginas</th>\n      <th>idioma</th>\n      <th>editora</th>\n      <th>autor</th>\n      <th>genero</th>\n      <th>img_link</th>\n    </tr>\n  </thead>\n  <tbody>\n    <tr>\n      <th>0</th>\n      <td>Cabeça Fria, Coração Quente</td>\n      <td>R$ 40,41</td>\n      <td>Escrito em primeira pessoa pela equipa técnica...</td>\n      <td>554 páginas</td>\n      <td>Português</td>\n      <td>Garoa Livros; 1ª edição (8 março 2022)</td>\n      <td>Abel Ferreira</td>\n      <td>Biografia</td>\n      <td>https://m.media-amazon.com/images/I/41lUjbBeK6...</td>\n    </tr>\n    <tr>\n      <th>1</th>\n      <td>Quem tem medo do feminismo negro?</td>\n      <td>R$ 19,90</td>\n      <td>Um livro essencial e urgente, pois enquanto mu...</td>\n      <td>165 páginas</td>\n      <td>Português</td>\n      <td>Companhia das Letras; 1ª edição (8 junho 2018)</td>\n      <td>Djamila Ribeiro</td>\n      <td>Biografia</td>\n      <td>https://m.media-amazon.com/images/I/41ocS+To+E...</td>\n    </tr>\n    <tr>\n      <th>2</th>\n      <td>O rei dos dividendos: A saga do filho de imigr...</td>\n      <td>R$ 31,41</td>\n      <td>\"O livro que você tem em mãos é uma inspiração...</td>\n      <td>266 páginas</td>\n      <td>Português</td>\n      <td>Editora Sextante (25 outubro 2022)</td>\n      <td>Luiz Barsi Filho</td>\n      <td>Biografia</td>\n      <td>https://m.media-amazon.com/images/I/41k6c7A-M6...</td>\n    </tr>\n    <tr>\n      <th>3</th>\n      <td>Minha história</td>\n      <td>R$ 39,90</td>\n      <td>Um relato íntimo, poderoso e inspirador da ex-...</td>\n      <td>661 páginas</td>\n      <td>Português</td>\n      <td>Objetiva; 1ª edição (13 novembro 2018)</td>\n      <td>Michelle Obama</td>\n      <td>Biografia</td>\n      <td>https://m.media-amazon.com/images/I/41-NqD3Jy6...</td>\n    </tr>\n    <tr>\n      <th>4</th>\n      <td>A menina da montanha: A trajetória real da ame...</td>\n      <td>R$ 28,40</td>\n      <td>Eleito o livro do ano (2018) pela Amazon. Esco...</td>\n      <td>366 páginas</td>\n      <td>Português</td>\n      <td>Rocco Digital; 1ª edição (10 setembro 2018)</td>\n      <td>Tara Westover</td>\n      <td>Biografia</td>\n      <td>https://m.media-amazon.com/images/I/51UfHSbnfm...</td>\n    </tr>\n    <tr>\n      <th>...</th>\n      <td>...</td>\n      <td>...</td>\n      <td>...</td>\n      <td>...</td>\n      <td>...</td>\n      <td>...</td>\n      <td>...</td>\n      <td>...</td>\n      <td>...</td>\n    </tr>\n    <tr>\n      <th>84</th>\n      <td>Corte de névoa e fúria - Corte de espinhos e r...</td>\n      <td>R$ 37,03</td>\n      <td>O aguardado segundo volume da saga iniciada em...</td>\n      <td>807 páginas</td>\n      <td>Português</td>\n      <td>Galera; 1ª edição (1 setembro 2016)</td>\n      <td>Sarah J. Maas</td>\n      <td>Romance</td>\n      <td>https://m.media-amazon.com/images/I/51TMLjo+Se...</td>\n    </tr>\n    <tr>\n      <th>85</th>\n      <td>O peso da glória (Clássicos C. S. Lewis)</td>\n      <td>R$ 22,41</td>\n      <td>Nos nove sermões que compõem uma de suas obra...</td>\n      <td>163 páginas</td>\n      <td>Português</td>\n      <td>Thomas Nelson Brasil; 2º edição (18 setembro 2...</td>\n      <td>C. S. Lewis</td>\n      <td>Romance</td>\n      <td>https://m.media-amazon.com/images/I/51RJmzzx9t...</td>\n    </tr>\n    <tr>\n      <th>86</th>\n      <td>O labirinto de fogo (As provações de Apolo Liv...</td>\n      <td>R$ 42,21</td>\n      <td>No terceiro livro da série, o deus Apolo vai s...</td>\n      <td>477 páginas</td>\n      <td>NaN</td>\n      <td>Intrínseca (3 maio 2018)</td>\n      <td>Rick Riordan</td>\n      <td>Romance</td>\n      <td>https://m.media-amazon.com/images/I/51dlsLAZoB...</td>\n    </tr>\n    <tr>\n      <th>87</th>\n      <td>Dom Casmurro - Edição Exclusiva Amazon</td>\n      <td>R$ 14,90</td>\n      <td>Prometido para o seminário desde o nascimento,...</td>\n      <td>462 páginas</td>\n      <td>Português</td>\n      <td>Antofágica; 1ª edição (12 novembro 2020)</td>\n      <td>Machado De Assis</td>\n      <td>Romance</td>\n      <td>https://m.media-amazon.com/images/I/51PjgRe58s...</td>\n    </tr>\n    <tr>\n      <th>88</th>\n      <td>A hipótese do amor: Sucesso do TikTok</td>\n      <td>R$ 29,61</td>\n      <td>Quando um namoro de mentira entre cientistas e...</td>\n      <td>453 páginas</td>\n      <td>Português</td>\n      <td>Editora Arqueiro (26 junho 2022)</td>\n      <td>Ali Hazelwood</td>\n      <td>Romance</td>\n      <td>https://m.media-amazon.com/images/I/41knBs4ouO...</td>\n    </tr>\n  </tbody>\n</table>\n<p>89 rows × 9 columns</p>\n</div>"
     },
     "metadata": {},
     "output_type": "display_data"
    }
   ],
   "source": [
    "df = pd.DataFrame()\n",
    "for file_path in file_paths:\n",
    "    new_data = pd.read_csv(file_path)\n",
    "    df = pd.concat([df, new_data], axis=0)\n",
    "df.drop('Unnamed: 0', axis=1, inplace=True)\n",
    "df.reset_index(drop=True, inplace=True)\n",
    "display(df)"
   ]
  },
  {
   "cell_type": "markdown",
   "metadata": {},
   "source": [
    "# Data info"
   ]
  },
  {
   "cell_type": "code",
   "execution_count": 120,
   "metadata": {},
   "outputs": [
    {
     "data": {
      "text/plain": "(89, 9)"
     },
     "execution_count": 120,
     "metadata": {},
     "output_type": "execute_result"
    }
   ],
   "source": [
    "df.shape"
   ]
  },
  {
   "cell_type": "code",
   "execution_count": 121,
   "metadata": {},
   "outputs": [
    {
     "data": {
      "text/plain": "titulo       0\npreco        0\ndescricao    0\npaginas      0\nidioma       2\neditora      0\nautor        0\ngenero       0\nimg_link     0\ndtype: int64"
     },
     "execution_count": 121,
     "metadata": {},
     "output_type": "execute_result"
    }
   ],
   "source": [
    "df.isnull().sum()"
   ]
  },
  {
   "cell_type": "code",
   "execution_count": null,
   "metadata": {
    "pycharm": {
     "is_executing": true
    }
   },
   "outputs": [],
   "source": [
    "df[df['idioma'].isnull()]"
   ]
  },
  {
   "cell_type": "markdown",
   "metadata": {},
   "source": [
    "# Data pre-processing"
   ]
  },
  {
   "cell_type": "markdown",
   "metadata": {},
   "source": [
    "* Preencher Nan\n",
    "* Alterar coluna 'paginas' para int\n",
    "* Alterar coluna 'preco' para float\n",
    "* Corrigir erro de informação na coluna 'editora' e gerar ids\n",
    "* Gerar ids para a coluna 'genero'\n",
    "* Gerar ids para a coluna 'autor'\n",
    "* Gerar ids para a coluna 'idioma'"
   ]
  },
  {
   "cell_type": "code",
   "execution_count": null,
   "outputs": [],
   "source": [
    "df['genero'].value_counts()"
   ],
   "metadata": {
    "collapsed": false,
    "pycharm": {
     "is_executing": true
    }
   }
  },
  {
   "cell_type": "markdown",
   "metadata": {},
   "source": [
    "## Fillna"
   ]
  },
  {
   "cell_type": "code",
   "execution_count": null,
   "metadata": {
    "pycharm": {
     "is_executing": true
    }
   },
   "outputs": [],
   "source": [
    "df['idioma'].fillna('Português', inplace=True)\n",
    "df['idioma'].isnull().sum()"
   ]
  },
  {
   "cell_type": "markdown",
   "metadata": {},
   "source": [
    "## Column 'page'"
   ]
  },
  {
   "cell_type": "code",
   "execution_count": null,
   "metadata": {
    "pycharm": {
     "is_executing": true
    }
   },
   "outputs": [
    {
     "data": {
      "text/plain": "0     554\n1     165\n2     266\n3     661\n4     366\n     ... \n84    807\n85    163\n86    477\n87    462\n88    453\nName: paginas, Length: 89, dtype: object"
     },
     "execution_count": 125,
     "metadata": {},
     "output_type": "execute_result"
    }
   ],
   "source": [
    "new_page_data = []\n",
    "for pagina in df['paginas']:\n",
    "    new_page_data.append(pagina.replace(' páginas', ''))\n",
    "df['paginas'] = new_page_data\n",
    "df['paginas']"
   ]
  },
  {
   "cell_type": "markdown",
   "metadata": {},
   "source": [
    "## Column 'preco'"
   ]
  },
  {
   "cell_type": "code",
   "execution_count": null,
   "metadata": {
    "pycharm": {
     "is_executing": true
    }
   },
   "outputs": [
    {
     "data": {
      "text/plain": "0     40.41\n1     19.90\n2     31.41\n3     39.90\n4     28.40\n      ...  \n84    37.03\n85    22.41\n86    42.21\n87    14.90\n88    29.61\nName: preco, Length: 89, dtype: object"
     },
     "execution_count": 126,
     "metadata": {},
     "output_type": "execute_result"
    }
   ],
   "source": [
    "new_price_data = []\n",
    "for preco in df['preco']:\n",
    "    new_price = preco.replace('R$ ', '')\n",
    "    new_price_data.append(new_price.replace(',', '.'))\n",
    "df['preco'] = new_price_data\n",
    "df['preco']"
   ]
  },
  {
   "cell_type": "markdown",
   "source": [
    "## Column 'editora'"
   ],
   "metadata": {
    "collapsed": false
   }
  },
  {
   "cell_type": "code",
   "execution_count": null,
   "outputs": [
    {
     "data": {
      "text/plain": "0                Garoa Livros; 1ª edição (8 março 2022)\n1        Companhia das Letras; 1ª edição (8 junho 2018)\n2                    Editora Sextante (25 outubro 2022)\n3                Objetiva; 1ª edição (13 novembro 2018)\n4           Rocco Digital; 1ª edição (10 setembro 2018)\n                            ...                        \n84                  Galera; 1ª edição (1 setembro 2016)\n85    Thomas Nelson Brasil; 2º edição (18 setembro 2...\n86                             Intrínseca (3 maio 2018)\n87             Antofágica; 1ª edição (12 novembro 2020)\n88                     Editora Arqueiro (26 junho 2022)\nName: editora, Length: 89, dtype: object"
     },
     "execution_count": 127,
     "metadata": {},
     "output_type": "execute_result"
    }
   ],
   "source": [
    "df['editora']"
   ],
   "metadata": {
    "collapsed": false,
    "pycharm": {
     "is_executing": true
    }
   }
  },
  {
   "cell_type": "code",
   "execution_count": null,
   "outputs": [
    {
     "data": {
      "text/plain": "                       titulo  preco   \n83  A Garota do Laço Vermelho  10.00  \\\n\n                                            descricao paginas     idioma   \n83  Camila e Lauren se apaixonaram através da músi...     877  Português  \\\n\n      editora             autor   genero   \n83  Português  Isabella Pereira  Romance  \\\n\n                                             img_link  \n83  https://m.media-amazon.com/images/I/51IM0EasEK...  ",
      "text/html": "<div>\n<style scoped>\n    .dataframe tbody tr th:only-of-type {\n        vertical-align: middle;\n    }\n\n    .dataframe tbody tr th {\n        vertical-align: top;\n    }\n\n    .dataframe thead th {\n        text-align: right;\n    }\n</style>\n<table border=\"1\" class=\"dataframe\">\n  <thead>\n    <tr style=\"text-align: right;\">\n      <th></th>\n      <th>titulo</th>\n      <th>preco</th>\n      <th>descricao</th>\n      <th>paginas</th>\n      <th>idioma</th>\n      <th>editora</th>\n      <th>autor</th>\n      <th>genero</th>\n      <th>img_link</th>\n    </tr>\n  </thead>\n  <tbody>\n    <tr>\n      <th>83</th>\n      <td>A Garota do Laço Vermelho</td>\n      <td>10.00</td>\n      <td>Camila e Lauren se apaixonaram através da músi...</td>\n      <td>877</td>\n      <td>Português</td>\n      <td>Português</td>\n      <td>Isabella Pereira</td>\n      <td>Romance</td>\n      <td>https://m.media-amazon.com/images/I/51IM0EasEK...</td>\n    </tr>\n  </tbody>\n</table>\n</div>"
     },
     "execution_count": 128,
     "metadata": {},
     "output_type": "execute_result"
    }
   ],
   "source": [
    "df[df.index == 83]"
   ],
   "metadata": {
    "collapsed": false,
    "pycharm": {
     "is_executing": true
    }
   }
  },
  {
   "cell_type": "code",
   "execution_count": null,
   "outputs": [],
   "source": [
    "new_publishing_data = []\n",
    "for editora in df['editora']:\n",
    "    if editora == 'Português':\n",
    "        new_publishing_data.append('GrupoHPM')\n",
    "    else:\n",
    "        new_publishing_data.append(editora)\n",
    "df['editora'] = new_publishing_data"
   ],
   "metadata": {
    "collapsed": false,
    "pycharm": {
     "is_executing": true
    }
   }
  },
  {
   "cell_type": "code",
   "execution_count": null,
   "outputs": [
    {
     "data": {
      "text/plain": "'GrupoHPM'"
     },
     "metadata": {},
     "output_type": "display_data"
    }
   ],
   "source": [
    "display(df.loc[83]['editora'])"
   ],
   "metadata": {
    "collapsed": false,
    "pycharm": {
     "is_executing": true
    }
   }
  },
  {
   "cell_type": "code",
   "execution_count": null,
   "outputs": [
    {
     "data": {
      "text/plain": "0                Garoa Livros; 1ª edição (8 março 2022)\n1        Companhia das Letras; 1ª edição (8 junho 2018)\n2                    Editora Sextante (25 outubro 2022)\n3                Objetiva; 1ª edição (13 novembro 2018)\n4           Rocco Digital; 1ª edição (10 setembro 2018)\n                            ...                        \n84                  Galera; 1ª edição (1 setembro 2016)\n85    Thomas Nelson Brasil; 2º edição (18 setembro 2...\n86                             Intrínseca (3 maio 2018)\n87             Antofágica; 1ª edição (12 novembro 2020)\n88                     Editora Arqueiro (26 junho 2022)\nName: editora, Length: 89, dtype: object"
     },
     "execution_count": 131,
     "metadata": {},
     "output_type": "execute_result"
    }
   ],
   "source": [
    "df['editora']"
   ],
   "metadata": {
    "collapsed": false,
    "pycharm": {
     "is_executing": true
    }
   }
  },
  {
   "cell_type": "code",
   "execution_count": null,
   "outputs": [],
   "source": [
    "new_publishing_data = []\n",
    "for publishing in df['editora']:\n",
    "    if \";\" in publishing:\n",
    "        idx = publishing.index(\";\")\n",
    "        new_publishing_data.append(publishing[:idx])\n",
    "    elif \" (\" in publishing:\n",
    "        idx = publishing.index(\" (\")\n",
    "        new_publishing_data.append(publishing[:idx])\n",
    "    else:\n",
    "        new_publishing_data.append(publishing)\n",
    "df['editora'] = new_publishing_data"
   ],
   "metadata": {
    "collapsed": false,
    "pycharm": {
     "is_executing": true
    }
   }
  },
  {
   "cell_type": "code",
   "execution_count": null,
   "outputs": [
    {
     "data": {
      "text/plain": "editora\nCompanhia das Letras                 8\nNovatec Editora                      6\nIntrínseca                           6\nEditora Sextante                     5\nAlta Books                           4\nEditora Arqueiro                     4\nContexto                             3\nSuma                                 3\nThomas Nelson Brasil                 3\nObjetiva                             3\nGalera                               2\nAstral Cultural                      2\nSaraiva Uni                          2\nCasa do Código                       2\nEditora Aleph                        2\nAndré Roncaglia e Paulo Gala         1\nLVM Editora                          1\nAccess Consciousness Publishing      1\nZahar                                1\nGrupoHPM                             1\nBoitempo Editorial                   1\nTodavia                              1\nEdipro                               1\nHarperKids                           1\nAlta Life                            1\nHarperCollins Brasil                 1\nBiblioteca Azul                      1\nEditora Best Seller                  1\nStentor Books                        1\nAcademia                             1\nGaroa Livros                         1\nTALENTOS DA LITERATURA BRASILEIRA    1\nUniverso dos Livros                  1\nRocco Digital                        1\nBest Seller                          1\nPrincipis                            1\nLinear B Editora                     1\nBookman                              1\nBest Business                        1\nAtlas                                1\nAlfacon                              1\nDVS Editora                          1\nGlobo Livros                         1\nDarkside Books                       1\nPlaneta Minotauro                    1\nLTC                                  1\nVia Leitura                          1\nUniverso Geek                        1\nAntofágica                           1\nName: count, dtype: int64"
     },
     "execution_count": 133,
     "metadata": {},
     "output_type": "execute_result"
    }
   ],
   "source": [
    "df['editora'].value_counts()"
   ],
   "metadata": {
    "collapsed": false,
    "pycharm": {
     "is_executing": true
    }
   }
  },
  {
   "cell_type": "markdown",
   "source": [
    "### Id generator"
   ],
   "metadata": {
    "collapsed": false
   }
  },
  {
   "cell_type": "code",
   "execution_count": 134,
   "outputs": [],
   "source": [
    "publishing_values = pd.DataFrame(df['editora'].unique())\n",
    "publishing_values.columns = ['editora']\n",
    "publishing_ids = []\n",
    "for publishing in df['editora']:\n",
    "    publishing_id = publishing_values[publishing_values['editora'] == publishing].index + 1\n",
    "    publishing_ids.append(publishing_id[0])\n",
    "df['id_editora'] = publishing_ids"
   ],
   "metadata": {
    "collapsed": false
   }
  },
  {
   "cell_type": "code",
   "execution_count": 135,
   "outputs": [
    {
     "data": {
      "text/plain": "editora                            id_editora\nCompanhia das Letras               2             8\nIntrínseca                         7             6\nNovatec Editora                    25            6\nEditora Sextante                   3             5\nAlta Books                         11            4\nEditora Arqueiro                   19            4\nObjetiva                           4             3\nThomas Nelson Brasil               32            3\nContexto                           36            3\nSuma                               20            3\nSaraiva Uni                        15            2\nEditora Aleph                      21            2\nGalera                             47            2\nAstral Cultural                    14            2\nCasa do Código                     24            2\nRocco Digital                      5             1\nHarperKids                         46            1\nStentor Books                      43            1\nTALENTOS DA LITERATURA BRASILEIRA  30            1\nPrincipis                          8             1\nPlaneta Minotauro                  23            1\nTodavia                            44            1\nUniverso Geek                      28            1\nUniverso dos Livros                29            1\nVia Leitura                        27            1\nLinear B Editora                   9             1\nLVM Editora                        33            1\nLTC                                26            1\nAcademia                           41            1\nHarperCollins Brasil               40            1\nGrupoHPM                           48            1\nAlfacon                            16            1\nAlta Life                          39            1\nAndré Roncaglia e Paulo Gala       38            1\nAntofágica                         49            1\nAtlas                              13            1\nBest Business                      12            1\nBest Seller                        6             1\nBiblioteca Azul                    31            1\nBoitempo Editorial                 37            1\nBookman                            10            1\nDVS Editora                        17            1\nDarkside Books                     22            1\nEdipro                             45            1\nEditora Best Seller                42            1\nAccess Consciousness Publishing    34            1\nGaroa Livros                       1             1\nGlobo Livros                       18            1\nZahar                              35            1\nName: count, dtype: int64"
     },
     "execution_count": 135,
     "metadata": {},
     "output_type": "execute_result"
    }
   ],
   "source": [
    "df[['editora', 'id_editora']].value_counts()"
   ],
   "metadata": {
    "collapsed": false
   }
  },
  {
   "cell_type": "code",
   "execution_count": 136,
   "outputs": [],
   "source": [
    "df.drop('editora', axis=1, inplace=True)"
   ],
   "metadata": {
    "collapsed": false
   }
  },
  {
   "cell_type": "markdown",
   "source": [
    "## Column 'genero'"
   ],
   "metadata": {
    "collapsed": false
   }
  },
  {
   "cell_type": "code",
   "execution_count": 137,
   "outputs": [
    {
     "data": {
      "text/plain": "                        genero\n0                    Biografia\n1  Negócios e Empreendedorismo\n2                       Terror\n3                   Tecnologia\n4            Ficção Científica\n5                     Economia\n6      Desenvolvimento Pessoal\n7                     Ciências\n8                      Romance",
      "text/html": "<div>\n<style scoped>\n    .dataframe tbody tr th:only-of-type {\n        vertical-align: middle;\n    }\n\n    .dataframe tbody tr th {\n        vertical-align: top;\n    }\n\n    .dataframe thead th {\n        text-align: right;\n    }\n</style>\n<table border=\"1\" class=\"dataframe\">\n  <thead>\n    <tr style=\"text-align: right;\">\n      <th></th>\n      <th>genero</th>\n    </tr>\n  </thead>\n  <tbody>\n    <tr>\n      <th>0</th>\n      <td>Biografia</td>\n    </tr>\n    <tr>\n      <th>1</th>\n      <td>Negócios e Empreendedorismo</td>\n    </tr>\n    <tr>\n      <th>2</th>\n      <td>Terror</td>\n    </tr>\n    <tr>\n      <th>3</th>\n      <td>Tecnologia</td>\n    </tr>\n    <tr>\n      <th>4</th>\n      <td>Ficção Científica</td>\n    </tr>\n    <tr>\n      <th>5</th>\n      <td>Economia</td>\n    </tr>\n    <tr>\n      <th>6</th>\n      <td>Desenvolvimento Pessoal</td>\n    </tr>\n    <tr>\n      <th>7</th>\n      <td>Ciências</td>\n    </tr>\n    <tr>\n      <th>8</th>\n      <td>Romance</td>\n    </tr>\n  </tbody>\n</table>\n</div>"
     },
     "execution_count": 137,
     "metadata": {},
     "output_type": "execute_result"
    }
   ],
   "source": [
    "gender_values = pd.DataFrame(df['genero'].unique())\n",
    "gender_values.columns = ['genero']\n",
    "gender_values"
   ],
   "metadata": {
    "collapsed": false
   }
  },
  {
   "cell_type": "code",
   "execution_count": 138,
   "outputs": [],
   "source": [
    "gender_ids = []\n",
    "for gender in df['genero']:\n",
    "    gender_id = gender_values[gender_values['genero'] == gender].index + 1\n",
    "    gender_ids.append(gender_id[0])\n",
    "df['id_genero'] = gender_ids"
   ],
   "metadata": {
    "collapsed": false
   }
  },
  {
   "cell_type": "code",
   "execution_count": 139,
   "outputs": [
    {
     "data": {
      "text/plain": "genero                       id_genero\nBiografia                    1            10\nCiências                     8            10\nDesenvolvimento Pessoal      7            10\nFicção Científica            5            10\nNegócios e Empreendedorismo  2            10\nRomance                      9            10\nTecnologia                   4            10\nTerror                       3            10\nEconomia                     6             9\nName: count, dtype: int64"
     },
     "execution_count": 139,
     "metadata": {},
     "output_type": "execute_result"
    }
   ],
   "source": [
    "df[['genero', 'id_genero']].value_counts()"
   ],
   "metadata": {
    "collapsed": false
   }
  },
  {
   "cell_type": "code",
   "execution_count": 140,
   "outputs": [],
   "source": [
    "df.drop('genero', axis=1, inplace=True)"
   ],
   "metadata": {
    "collapsed": false
   }
  },
  {
   "cell_type": "markdown",
   "source": [
    "## Column 'autor'"
   ],
   "metadata": {
    "collapsed": false
   }
  },
  {
   "cell_type": "code",
   "execution_count": 141,
   "outputs": [
    {
     "data": {
      "text/plain": "                   0\n0      Abel Ferreira\n1    Djamila Ribeiro\n2   Luiz Barsi Filho\n3     Michelle Obama\n4      Tara Westover\n..               ...\n81     Sarah J. Maas\n82       C. S. Lewis\n83      Rick Riordan\n84  Machado De Assis\n85     Ali Hazelwood\n\n[86 rows x 1 columns]",
      "text/html": "<div>\n<style scoped>\n    .dataframe tbody tr th:only-of-type {\n        vertical-align: middle;\n    }\n\n    .dataframe tbody tr th {\n        vertical-align: top;\n    }\n\n    .dataframe thead th {\n        text-align: right;\n    }\n</style>\n<table border=\"1\" class=\"dataframe\">\n  <thead>\n    <tr style=\"text-align: right;\">\n      <th></th>\n      <th>0</th>\n    </tr>\n  </thead>\n  <tbody>\n    <tr>\n      <th>0</th>\n      <td>Abel Ferreira</td>\n    </tr>\n    <tr>\n      <th>1</th>\n      <td>Djamila Ribeiro</td>\n    </tr>\n    <tr>\n      <th>2</th>\n      <td>Luiz Barsi Filho</td>\n    </tr>\n    <tr>\n      <th>3</th>\n      <td>Michelle Obama</td>\n    </tr>\n    <tr>\n      <th>4</th>\n      <td>Tara Westover</td>\n    </tr>\n    <tr>\n      <th>...</th>\n      <td>...</td>\n    </tr>\n    <tr>\n      <th>81</th>\n      <td>Sarah J. Maas</td>\n    </tr>\n    <tr>\n      <th>82</th>\n      <td>C. S. Lewis</td>\n    </tr>\n    <tr>\n      <th>83</th>\n      <td>Rick Riordan</td>\n    </tr>\n    <tr>\n      <th>84</th>\n      <td>Machado De Assis</td>\n    </tr>\n    <tr>\n      <th>85</th>\n      <td>Ali Hazelwood</td>\n    </tr>\n  </tbody>\n</table>\n<p>86 rows × 1 columns</p>\n</div>"
     },
     "execution_count": 141,
     "metadata": {},
     "output_type": "execute_result"
    }
   ],
   "source": [
    "author_values = pd.DataFrame(df['autor'].unique())\n",
    "author_values"
   ],
   "metadata": {
    "collapsed": false
   }
  },
  {
   "cell_type": "code",
   "execution_count": 142,
   "outputs": [],
   "source": [
    "author_values = pd.DataFrame(df['autor'].unique())\n",
    "author_values.columns = ['autor']\n",
    "author_ids = []\n",
    "for author in df['autor']:\n",
    "    author_id = author_values[author_values['autor'] == author].index + 1\n",
    "    author_ids.append(author_id[0])\n",
    "df['id_autor'] = author_ids"
   ],
   "metadata": {
    "collapsed": false
   }
  },
  {
   "cell_type": "code",
   "execution_count": 143,
   "outputs": [
    {
     "data": {
      "text/plain": "autor              id_autor\nCarl Sagan         72          2\nStephen King       25          2\nBeth O’Leary       79          2\nAbel Ferreira      1           1\nMark Manson        64          1\n                              ..\nGiu Domingues      80          1\nGary M. Douglas    52          1\nFrank Zammetti     36          1\nEdgar Allan Poe    23          1\nYuval Noah Harari  70          1\nName: count, Length: 86, dtype: int64"
     },
     "execution_count": 143,
     "metadata": {},
     "output_type": "execute_result"
    }
   ],
   "source": [
    "df[['autor', 'id_autor']].value_counts()"
   ],
   "metadata": {
    "collapsed": false
   }
  },
  {
   "cell_type": "code",
   "execution_count": 144,
   "outputs": [],
   "source": [
    "df.drop('autor', axis=1, inplace=True)"
   ],
   "metadata": {
    "collapsed": false
   }
  },
  {
   "cell_type": "code",
   "execution_count": 145,
   "outputs": [
    {
     "data": {
      "text/plain": "                                              titulo  preco   \n0                        Cabeça Fria, Coração Quente  40.41  \\\n1                  Quem tem medo do feminismo negro?  19.90   \n2  O rei dos dividendos: A saga do filho de imigr...  31.41   \n3                                     Minha história  39.90   \n4  A menina da montanha: A trajetória real da ame...  28.40   \n5                                        O que sobra  23.94   \n6                                    Em busca de mim  18.56   \n7     Ideias para adiar o fim do mundo (Nova edição)  16.90   \n8          Todo dia a mesma noite (série da Netflix)  31.41   \n9  O Diário de Anne Frank (Clássicos da literatur...   8.91   \n\n                                           descricao paginas     idioma   \n0  Escrito em primeira pessoa pela equipa técnica...     554  Português  \\\n1  Um livro essencial e urgente, pois enquanto mu...     165  Português   \n2  \"O livro que você tem em mãos é uma inspiração...     266  Português   \n3  Um relato íntimo, poderoso e inspirador da ex-...     661  Português   \n4  Eleito o livro do ano (2018) pela Amazon. Esco...     366  Português   \n5  Esta foi uma das imagens mais tocantes do sécu...     683  Português   \n6  A internacionalmente aclamada atriz Viola Davi...     317  Português   \n7  Uma parábola sobre os tempos atuais, por um de...      73  Português   \n8  Reportagem definitiva sobre o incêndio na Boat...     202  Português   \n9  É a história real de uma garota judia de 13 an...     266  Português   \n\n                                            img_link  id_editora  id_genero   \n0  https://m.media-amazon.com/images/I/41lUjbBeK6...           1          1  \\\n1  https://m.media-amazon.com/images/I/41ocS+To+E...           2          1   \n2  https://m.media-amazon.com/images/I/41k6c7A-M6...           3          1   \n3  https://m.media-amazon.com/images/I/41-NqD3Jy6...           4          1   \n4  https://m.media-amazon.com/images/I/51UfHSbnfm...           5          1   \n5  https://m.media-amazon.com/images/I/417WM4uIEK...           4          1   \n6  https://m.media-amazon.com/images/I/51PfMe6pHw...           6          1   \n7  https://m.media-amazon.com/images/I/41G3QOKGJL...           2          1   \n8  https://m.media-amazon.com/images/I/41-ndsZp1f...           7          1   \n9  https://m.media-amazon.com/images/I/41eve-WrCB...           8          1   \n\n   id_autor  \n0         1  \n1         2  \n2         3  \n3         4  \n4         5  \n5         6  \n6         7  \n7         8  \n8         9  \n9        10  ",
      "text/html": "<div>\n<style scoped>\n    .dataframe tbody tr th:only-of-type {\n        vertical-align: middle;\n    }\n\n    .dataframe tbody tr th {\n        vertical-align: top;\n    }\n\n    .dataframe thead th {\n        text-align: right;\n    }\n</style>\n<table border=\"1\" class=\"dataframe\">\n  <thead>\n    <tr style=\"text-align: right;\">\n      <th></th>\n      <th>titulo</th>\n      <th>preco</th>\n      <th>descricao</th>\n      <th>paginas</th>\n      <th>idioma</th>\n      <th>img_link</th>\n      <th>id_editora</th>\n      <th>id_genero</th>\n      <th>id_autor</th>\n    </tr>\n  </thead>\n  <tbody>\n    <tr>\n      <th>0</th>\n      <td>Cabeça Fria, Coração Quente</td>\n      <td>40.41</td>\n      <td>Escrito em primeira pessoa pela equipa técnica...</td>\n      <td>554</td>\n      <td>Português</td>\n      <td>https://m.media-amazon.com/images/I/41lUjbBeK6...</td>\n      <td>1</td>\n      <td>1</td>\n      <td>1</td>\n    </tr>\n    <tr>\n      <th>1</th>\n      <td>Quem tem medo do feminismo negro?</td>\n      <td>19.90</td>\n      <td>Um livro essencial e urgente, pois enquanto mu...</td>\n      <td>165</td>\n      <td>Português</td>\n      <td>https://m.media-amazon.com/images/I/41ocS+To+E...</td>\n      <td>2</td>\n      <td>1</td>\n      <td>2</td>\n    </tr>\n    <tr>\n      <th>2</th>\n      <td>O rei dos dividendos: A saga do filho de imigr...</td>\n      <td>31.41</td>\n      <td>\"O livro que você tem em mãos é uma inspiração...</td>\n      <td>266</td>\n      <td>Português</td>\n      <td>https://m.media-amazon.com/images/I/41k6c7A-M6...</td>\n      <td>3</td>\n      <td>1</td>\n      <td>3</td>\n    </tr>\n    <tr>\n      <th>3</th>\n      <td>Minha história</td>\n      <td>39.90</td>\n      <td>Um relato íntimo, poderoso e inspirador da ex-...</td>\n      <td>661</td>\n      <td>Português</td>\n      <td>https://m.media-amazon.com/images/I/41-NqD3Jy6...</td>\n      <td>4</td>\n      <td>1</td>\n      <td>4</td>\n    </tr>\n    <tr>\n      <th>4</th>\n      <td>A menina da montanha: A trajetória real da ame...</td>\n      <td>28.40</td>\n      <td>Eleito o livro do ano (2018) pela Amazon. Esco...</td>\n      <td>366</td>\n      <td>Português</td>\n      <td>https://m.media-amazon.com/images/I/51UfHSbnfm...</td>\n      <td>5</td>\n      <td>1</td>\n      <td>5</td>\n    </tr>\n    <tr>\n      <th>5</th>\n      <td>O que sobra</td>\n      <td>23.94</td>\n      <td>Esta foi uma das imagens mais tocantes do sécu...</td>\n      <td>683</td>\n      <td>Português</td>\n      <td>https://m.media-amazon.com/images/I/417WM4uIEK...</td>\n      <td>4</td>\n      <td>1</td>\n      <td>6</td>\n    </tr>\n    <tr>\n      <th>6</th>\n      <td>Em busca de mim</td>\n      <td>18.56</td>\n      <td>A internacionalmente aclamada atriz Viola Davi...</td>\n      <td>317</td>\n      <td>Português</td>\n      <td>https://m.media-amazon.com/images/I/51PfMe6pHw...</td>\n      <td>6</td>\n      <td>1</td>\n      <td>7</td>\n    </tr>\n    <tr>\n      <th>7</th>\n      <td>Ideias para adiar o fim do mundo (Nova edição)</td>\n      <td>16.90</td>\n      <td>Uma parábola sobre os tempos atuais, por um de...</td>\n      <td>73</td>\n      <td>Português</td>\n      <td>https://m.media-amazon.com/images/I/41G3QOKGJL...</td>\n      <td>2</td>\n      <td>1</td>\n      <td>8</td>\n    </tr>\n    <tr>\n      <th>8</th>\n      <td>Todo dia a mesma noite (série da Netflix)</td>\n      <td>31.41</td>\n      <td>Reportagem definitiva sobre o incêndio na Boat...</td>\n      <td>202</td>\n      <td>Português</td>\n      <td>https://m.media-amazon.com/images/I/41-ndsZp1f...</td>\n      <td>7</td>\n      <td>1</td>\n      <td>9</td>\n    </tr>\n    <tr>\n      <th>9</th>\n      <td>O Diário de Anne Frank (Clássicos da literatur...</td>\n      <td>8.91</td>\n      <td>É a história real de uma garota judia de 13 an...</td>\n      <td>266</td>\n      <td>Português</td>\n      <td>https://m.media-amazon.com/images/I/41eve-WrCB...</td>\n      <td>8</td>\n      <td>1</td>\n      <td>10</td>\n    </tr>\n  </tbody>\n</table>\n</div>"
     },
     "execution_count": 145,
     "metadata": {},
     "output_type": "execute_result"
    }
   ],
   "source": [
    "df.head(10)"
   ],
   "metadata": {
    "collapsed": false
   }
  },
  {
   "cell_type": "markdown",
   "source": [
    "## Column 'idioma'"
   ],
   "metadata": {
    "collapsed": false
   }
  },
  {
   "cell_type": "code",
   "execution_count": 146,
   "outputs": [],
   "source": [
    "ids_idioma = []\n",
    "for i in range(len(df['idioma'])):\n",
    "    ids_idioma.append(1)\n",
    "df['id_idioma'] = ids_idioma"
   ],
   "metadata": {
    "collapsed": false
   }
  },
  {
   "cell_type": "code",
   "execution_count": 147,
   "outputs": [
    {
     "data": {
      "text/plain": "idioma     id_idioma\nPortuguês  1            89\nName: count, dtype: int64"
     },
     "execution_count": 147,
     "metadata": {},
     "output_type": "execute_result"
    }
   ],
   "source": [
    "df[['idioma', 'id_idioma']].value_counts()"
   ],
   "metadata": {
    "collapsed": false
   }
  },
  {
   "cell_type": "code",
   "execution_count": 148,
   "outputs": [],
   "source": [
    "df.drop('idioma', axis=1, inplace=True)"
   ],
   "metadata": {
    "collapsed": false
   }
  },
  {
   "cell_type": "code",
   "execution_count": 149,
   "outputs": [
    {
     "data": {
      "text/plain": "                                              titulo  preco   \n0                        Cabeça Fria, Coração Quente  40.41  \\\n1                  Quem tem medo do feminismo negro?  19.90   \n2  O rei dos dividendos: A saga do filho de imigr...  31.41   \n3                                     Minha história  39.90   \n4  A menina da montanha: A trajetória real da ame...  28.40   \n5                                        O que sobra  23.94   \n6                                    Em busca de mim  18.56   \n7     Ideias para adiar o fim do mundo (Nova edição)  16.90   \n8          Todo dia a mesma noite (série da Netflix)  31.41   \n9  O Diário de Anne Frank (Clássicos da literatur...   8.91   \n\n                                           descricao paginas   \n0  Escrito em primeira pessoa pela equipa técnica...     554  \\\n1  Um livro essencial e urgente, pois enquanto mu...     165   \n2  \"O livro que você tem em mãos é uma inspiração...     266   \n3  Um relato íntimo, poderoso e inspirador da ex-...     661   \n4  Eleito o livro do ano (2018) pela Amazon. Esco...     366   \n5  Esta foi uma das imagens mais tocantes do sécu...     683   \n6  A internacionalmente aclamada atriz Viola Davi...     317   \n7  Uma parábola sobre os tempos atuais, por um de...      73   \n8  Reportagem definitiva sobre o incêndio na Boat...     202   \n9  É a história real de uma garota judia de 13 an...     266   \n\n                                            img_link  id_editora  id_genero   \n0  https://m.media-amazon.com/images/I/41lUjbBeK6...           1          1  \\\n1  https://m.media-amazon.com/images/I/41ocS+To+E...           2          1   \n2  https://m.media-amazon.com/images/I/41k6c7A-M6...           3          1   \n3  https://m.media-amazon.com/images/I/41-NqD3Jy6...           4          1   \n4  https://m.media-amazon.com/images/I/51UfHSbnfm...           5          1   \n5  https://m.media-amazon.com/images/I/417WM4uIEK...           4          1   \n6  https://m.media-amazon.com/images/I/51PfMe6pHw...           6          1   \n7  https://m.media-amazon.com/images/I/41G3QOKGJL...           2          1   \n8  https://m.media-amazon.com/images/I/41-ndsZp1f...           7          1   \n9  https://m.media-amazon.com/images/I/41eve-WrCB...           8          1   \n\n   id_autor  id_idioma  \n0         1          1  \n1         2          1  \n2         3          1  \n3         4          1  \n4         5          1  \n5         6          1  \n6         7          1  \n7         8          1  \n8         9          1  \n9        10          1  ",
      "text/html": "<div>\n<style scoped>\n    .dataframe tbody tr th:only-of-type {\n        vertical-align: middle;\n    }\n\n    .dataframe tbody tr th {\n        vertical-align: top;\n    }\n\n    .dataframe thead th {\n        text-align: right;\n    }\n</style>\n<table border=\"1\" class=\"dataframe\">\n  <thead>\n    <tr style=\"text-align: right;\">\n      <th></th>\n      <th>titulo</th>\n      <th>preco</th>\n      <th>descricao</th>\n      <th>paginas</th>\n      <th>img_link</th>\n      <th>id_editora</th>\n      <th>id_genero</th>\n      <th>id_autor</th>\n      <th>id_idioma</th>\n    </tr>\n  </thead>\n  <tbody>\n    <tr>\n      <th>0</th>\n      <td>Cabeça Fria, Coração Quente</td>\n      <td>40.41</td>\n      <td>Escrito em primeira pessoa pela equipa técnica...</td>\n      <td>554</td>\n      <td>https://m.media-amazon.com/images/I/41lUjbBeK6...</td>\n      <td>1</td>\n      <td>1</td>\n      <td>1</td>\n      <td>1</td>\n    </tr>\n    <tr>\n      <th>1</th>\n      <td>Quem tem medo do feminismo negro?</td>\n      <td>19.90</td>\n      <td>Um livro essencial e urgente, pois enquanto mu...</td>\n      <td>165</td>\n      <td>https://m.media-amazon.com/images/I/41ocS+To+E...</td>\n      <td>2</td>\n      <td>1</td>\n      <td>2</td>\n      <td>1</td>\n    </tr>\n    <tr>\n      <th>2</th>\n      <td>O rei dos dividendos: A saga do filho de imigr...</td>\n      <td>31.41</td>\n      <td>\"O livro que você tem em mãos é uma inspiração...</td>\n      <td>266</td>\n      <td>https://m.media-amazon.com/images/I/41k6c7A-M6...</td>\n      <td>3</td>\n      <td>1</td>\n      <td>3</td>\n      <td>1</td>\n    </tr>\n    <tr>\n      <th>3</th>\n      <td>Minha história</td>\n      <td>39.90</td>\n      <td>Um relato íntimo, poderoso e inspirador da ex-...</td>\n      <td>661</td>\n      <td>https://m.media-amazon.com/images/I/41-NqD3Jy6...</td>\n      <td>4</td>\n      <td>1</td>\n      <td>4</td>\n      <td>1</td>\n    </tr>\n    <tr>\n      <th>4</th>\n      <td>A menina da montanha: A trajetória real da ame...</td>\n      <td>28.40</td>\n      <td>Eleito o livro do ano (2018) pela Amazon. Esco...</td>\n      <td>366</td>\n      <td>https://m.media-amazon.com/images/I/51UfHSbnfm...</td>\n      <td>5</td>\n      <td>1</td>\n      <td>5</td>\n      <td>1</td>\n    </tr>\n    <tr>\n      <th>5</th>\n      <td>O que sobra</td>\n      <td>23.94</td>\n      <td>Esta foi uma das imagens mais tocantes do sécu...</td>\n      <td>683</td>\n      <td>https://m.media-amazon.com/images/I/417WM4uIEK...</td>\n      <td>4</td>\n      <td>1</td>\n      <td>6</td>\n      <td>1</td>\n    </tr>\n    <tr>\n      <th>6</th>\n      <td>Em busca de mim</td>\n      <td>18.56</td>\n      <td>A internacionalmente aclamada atriz Viola Davi...</td>\n      <td>317</td>\n      <td>https://m.media-amazon.com/images/I/51PfMe6pHw...</td>\n      <td>6</td>\n      <td>1</td>\n      <td>7</td>\n      <td>1</td>\n    </tr>\n    <tr>\n      <th>7</th>\n      <td>Ideias para adiar o fim do mundo (Nova edição)</td>\n      <td>16.90</td>\n      <td>Uma parábola sobre os tempos atuais, por um de...</td>\n      <td>73</td>\n      <td>https://m.media-amazon.com/images/I/41G3QOKGJL...</td>\n      <td>2</td>\n      <td>1</td>\n      <td>8</td>\n      <td>1</td>\n    </tr>\n    <tr>\n      <th>8</th>\n      <td>Todo dia a mesma noite (série da Netflix)</td>\n      <td>31.41</td>\n      <td>Reportagem definitiva sobre o incêndio na Boat...</td>\n      <td>202</td>\n      <td>https://m.media-amazon.com/images/I/41-ndsZp1f...</td>\n      <td>7</td>\n      <td>1</td>\n      <td>9</td>\n      <td>1</td>\n    </tr>\n    <tr>\n      <th>9</th>\n      <td>O Diário de Anne Frank (Clássicos da literatur...</td>\n      <td>8.91</td>\n      <td>É a história real de uma garota judia de 13 an...</td>\n      <td>266</td>\n      <td>https://m.media-amazon.com/images/I/41eve-WrCB...</td>\n      <td>8</td>\n      <td>1</td>\n      <td>10</td>\n      <td>1</td>\n    </tr>\n  </tbody>\n</table>\n</div>"
     },
     "execution_count": 149,
     "metadata": {},
     "output_type": "execute_result"
    }
   ],
   "source": [
    "df.head(10)"
   ],
   "metadata": {
    "collapsed": false
   }
  },
  {
   "cell_type": "code",
   "execution_count": 159,
   "outputs": [],
   "source": [
    "for description in df['descricao']:\n",
    "    if len(description) > 3400:\n",
    "        print(description.index)"
   ],
   "metadata": {
    "collapsed": false
   }
  },
  {
   "cell_type": "markdown",
   "source": [
    "# Exporting to csv"
   ],
   "metadata": {
    "collapsed": false
   }
  },
  {
   "cell_type": "code",
   "execution_count": 160,
   "outputs": [],
   "source": [
    "df.to_csv('./resultado/livros.csv', index=False)"
   ],
   "metadata": {
    "collapsed": false
   }
  }
 ],
 "metadata": {
  "kernelspec": {
   "display_name": "Python 3 (ipykernel)",
   "language": "python",
   "name": "python3"
  },
  "language_info": {
   "codemirror_mode": {
    "name": "ipython",
    "version": 3
   },
   "file_extension": ".py",
   "mimetype": "text/x-python",
   "name": "python",
   "nbconvert_exporter": "python",
   "pygments_lexer": "ipython3",
   "version": "3.10.6"
  }
 },
 "nbformat": 4,
 "nbformat_minor": 1
}
