{
  "cells": [
    {
      "cell_type": "code",
      "execution_count": 1,
      "metadata": {
        "collapsed": true,
        "id": "RmAV10cHjLwt"
      },
      "outputs": [],
      "source": [
        "import pandas as pd\n",
        "import numpy as np\n",
        "import os"
      ]
    },
    {
      "cell_type": "markdown",
      "source": [
        "### Feito com Google Colab"
      ],
      "metadata": {
        "id": "1MK9HaomjMxh"
      }
    },
    {
      "cell_type": "code",
      "source": [
        "from google.colab import drive\n",
        "drive.mount('/content/drive')"
      ],
      "metadata": {
        "colab": {
          "base_uri": "https://localhost:8080/"
        },
        "id": "czxc_ylRjR4w",
        "outputId": "b02fbef6-8d59-49bf-c431-78ad1e0135fc"
      },
      "execution_count": 2,
      "outputs": [
        {
          "output_type": "stream",
          "name": "stdout",
          "text": [
            "Mounted at /content/drive\n"
          ]
        }
      ]
    },
    {
      "cell_type": "markdown",
      "metadata": {
        "id": "w9OD7QDIjLwv"
      },
      "source": [
        "# Importing csv files"
      ]
    },
    {
      "cell_type": "code",
      "execution_count": 3,
      "metadata": {
        "id": "cq9OhdP1jLww"
      },
      "outputs": [],
      "source": [
        "base_path = '/content/drive/MyDrive/Book Space/Desenvolvimento/ETL/extracoes'"
      ]
    },
    {
      "cell_type": "code",
      "execution_count": 4,
      "metadata": {
        "colab": {
          "base_uri": "https://localhost:8080/"
        },
        "id": "dCxEwbnmjLwx",
        "outputId": "68910d2e-7b9b-4266-c24a-8f73aa7df1ae"
      },
      "outputs": [
        {
          "output_type": "stream",
          "name": "stdout",
          "text": [
            "['Biografia.csv', 'Ciências.csv', 'Desenvolvimento Pessoal.csv', 'Economia.csv', 'Ficção Científica.csv', 'Negócios e Empreendedorismo.csv', 'Romance.csv', 'Tecnologia.csv', 'Terror.csv']\n"
          ]
        }
      ],
      "source": [
        "file_names = []\n",
        "for root, dirs, files in os.walk(base_path):\n",
        "    file_names = files\n",
        "print(file_names)"
      ]
    },
    {
      "cell_type": "code",
      "execution_count": 5,
      "metadata": {
        "colab": {
          "base_uri": "https://localhost:8080/"
        },
        "id": "dKigGi9SjLwy",
        "outputId": "952ddf28-34aa-4c2a-8082-8dfda291bdaa"
      },
      "outputs": [
        {
          "output_type": "stream",
          "name": "stdout",
          "text": [
            "['/content/drive/MyDrive/Book Space/Desenvolvimento/ETL/extracoes/Biografia.csv', '/content/drive/MyDrive/Book Space/Desenvolvimento/ETL/extracoes/Ciências.csv', '/content/drive/MyDrive/Book Space/Desenvolvimento/ETL/extracoes/Desenvolvimento Pessoal.csv', '/content/drive/MyDrive/Book Space/Desenvolvimento/ETL/extracoes/Economia.csv', '/content/drive/MyDrive/Book Space/Desenvolvimento/ETL/extracoes/Ficção Científica.csv', '/content/drive/MyDrive/Book Space/Desenvolvimento/ETL/extracoes/Negócios e Empreendedorismo.csv', '/content/drive/MyDrive/Book Space/Desenvolvimento/ETL/extracoes/Romance.csv', '/content/drive/MyDrive/Book Space/Desenvolvimento/ETL/extracoes/Tecnologia.csv', '/content/drive/MyDrive/Book Space/Desenvolvimento/ETL/extracoes/Terror.csv']\n"
          ]
        }
      ],
      "source": [
        "file_paths = []\n",
        "for file in file_names:\n",
        "    file_paths.append(base_path+'/'+file)\n",
        "print(file_paths)"
      ]
    },
    {
      "cell_type": "code",
      "execution_count": 6,
      "metadata": {
        "colab": {
          "base_uri": "https://localhost:8080/",
          "height": 1000
        },
        "id": "cIaURp8xjLwy",
        "outputId": "fe2c02c2-3b8b-4f4e-eec4-4d2dfcbcf426"
      },
      "outputs": [
        {
          "output_type": "display_data",
          "data": {
            "text/plain": [
              "                                               titulo  \\\n",
              "0   Cabeça Fria, Coração Quente: Uma viagem pelos ...   \n",
              "1                   Quem tem medo do feminismo negro?   \n",
              "2   O rei dos dividendos: A saga do filho de imigr...   \n",
              "3                                      Minha História   \n",
              "4   A menina da montanha: A trajetória real da ame...   \n",
              "..                                                ...   \n",
              "84   Laranja Mecânica: Edição Comemorativa de 50 anos   \n",
              "85                                        O cemitério   \n",
              "86                                        Ghost Story   \n",
              "87                                         O vilarejo   \n",
              "88  Carmilla - A vampira de Karnstein +: O Vampiro...   \n",
              "\n",
              "                                            descricao      paginas     idioma  \\\n",
              "0   Escrito em primeira pessoa pela equipa técnica...  408 páginas  Português   \n",
              "1   \"Um livro essencial e urgente, pois enquanto m...  120 páginas  Português   \n",
              "2   \"O livro que você tem em mãos é uma inspiração...  256 páginas  Português   \n",
              "3   Um relato íntimo, poderoso e inspirador da ex-...  464 páginas  Português   \n",
              "4   Eleito o livro do ano (2018) pela Amazon. Esco...  336 páginas  Português   \n",
              "..                                                ...          ...        ...   \n",
              "84  Publicado pela primeira vez em 1962, e imortal...  352 páginas  Português   \n",
              "85  O livro que inspirou o filme O cemitério maldi...  424 páginas  Português   \n",
              "86  Na pacata cidadezinha de Milburn, nos Estados ...  448 páginas  Português   \n",
              "87  lustrações coloridas dão vida a romance com el...   96 páginas  Português   \n",
              "88  Essa edição traz a primeira vampira da históri...  176 páginas  Português   \n",
              "\n",
              "                 editora                autor     genero  \\\n",
              "0           Garoa Livros        Abel Ferreira  Biografia   \n",
              "1   Companhia das Letras      Djamila Ribeiro  Biografia   \n",
              "2       Editora Sextante     Luiz Barsi Filho  Biografia   \n",
              "3               Objetiva       Michelle Obama  Biografia   \n",
              "4                  Rocco        Tara Westover  Biografia   \n",
              "..                   ...                  ...        ...   \n",
              "84         Editora Aleph      Anthony Burgess     Terror   \n",
              "85                  Suma         Mário Molina     Terror   \n",
              "86              Darkside         Peter Straub     Terror   \n",
              "87                  Suma       Raphael Montes     Terror   \n",
              "88      Pandorga Editora  Le Fanu J. Sheridan     Terror   \n",
              "\n",
              "                                              imgLink          isbn13  \\\n",
              "0   https://m.media-amazon.com/images/I/413zVMkCRV...  978-6599096389   \n",
              "1   https://m.media-amazon.com/images/I/41lj0rgZ5W...  978-8535931136   \n",
              "2   https://m.media-amazon.com/images/I/51nBC1gqw5...  978-6555644746   \n",
              "3   https://m.media-amazon.com/images/I/41L-v8+K62...  978-8547000646   \n",
              "4   https://m.media-amazon.com/images/I/51xU-8rLw2...  978-8532531223   \n",
              "..                                                ...             ...   \n",
              "84  https://m.media-amazon.com/images/I/41prBOUE3-...  978-8576571360   \n",
              "85  https://m.media-amazon.com/images/I/41McBAhN-V...  978-8581050393   \n",
              "86  https://m.media-amazon.com/images/I/515rWNDKqa...  978-8594541840   \n",
              "87  https://m.media-amazon.com/images/I/41R9pm5hL-...  978-8581053042   \n",
              "88  https://m.media-amazon.com/images/I/51zlE2KLvQ...  978-6555791044   \n",
              "\n",
              "           isbn10                                         amazonLink  \n",
              "0      6599096387  https://www.amazon.com.br/Cora%C3%A7%C3%A3o-Ma...  \n",
              "1      8535931139  https://www.amazon.com.br/Quem-tem-medo-femini...  \n",
              "2      6555644745  https://www.amazon.com.br/rei-dos-dividendos-i...  \n",
              "3      854700064X  https://www.amazon.com.br/Minha-Hist%C3%B3ria-...  \n",
              "4   9788532531223  https://www.amazon.com.br/menina-montanha-traj...  \n",
              "..            ...                                                ...  \n",
              "84     8576571366  https://www.amazon.com.br/Laranja-mec%C3%A2nic...  \n",
              "85     8581050395  https://www.amazon.com.br/cemit%C3%A9rio-Steph...  \n",
              "86     8594541848  https://www.amazon.com.br/Ghost-Story-Peter-St...  \n",
              "87     8581053041  https://www.amazon.com.br/vilarejo-Raphael-Mon...  \n",
              "88     6555791047  https://www.amazon.com.br/Carmilla-vampira-Kar...  \n",
              "\n",
              "[89 rows x 11 columns]"
            ],
            "text/html": [
              "\n",
              "  <div id=\"df-29a6b2ec-c4bb-47d6-a1a8-8ee6aba74441\" class=\"colab-df-container\">\n",
              "    <div>\n",
              "<style scoped>\n",
              "    .dataframe tbody tr th:only-of-type {\n",
              "        vertical-align: middle;\n",
              "    }\n",
              "\n",
              "    .dataframe tbody tr th {\n",
              "        vertical-align: top;\n",
              "    }\n",
              "\n",
              "    .dataframe thead th {\n",
              "        text-align: right;\n",
              "    }\n",
              "</style>\n",
              "<table border=\"1\" class=\"dataframe\">\n",
              "  <thead>\n",
              "    <tr style=\"text-align: right;\">\n",
              "      <th></th>\n",
              "      <th>titulo</th>\n",
              "      <th>descricao</th>\n",
              "      <th>paginas</th>\n",
              "      <th>idioma</th>\n",
              "      <th>editora</th>\n",
              "      <th>autor</th>\n",
              "      <th>genero</th>\n",
              "      <th>imgLink</th>\n",
              "      <th>isbn13</th>\n",
              "      <th>isbn10</th>\n",
              "      <th>amazonLink</th>\n",
              "    </tr>\n",
              "  </thead>\n",
              "  <tbody>\n",
              "    <tr>\n",
              "      <th>0</th>\n",
              "      <td>Cabeça Fria, Coração Quente: Uma viagem pelos ...</td>\n",
              "      <td>Escrito em primeira pessoa pela equipa técnica...</td>\n",
              "      <td>408 páginas</td>\n",
              "      <td>Português</td>\n",
              "      <td>Garoa Livros</td>\n",
              "      <td>Abel Ferreira</td>\n",
              "      <td>Biografia</td>\n",
              "      <td>https://m.media-amazon.com/images/I/413zVMkCRV...</td>\n",
              "      <td>978-6599096389</td>\n",
              "      <td>6599096387</td>\n",
              "      <td>https://www.amazon.com.br/Cora%C3%A7%C3%A3o-Ma...</td>\n",
              "    </tr>\n",
              "    <tr>\n",
              "      <th>1</th>\n",
              "      <td>Quem tem medo do feminismo negro?</td>\n",
              "      <td>\"Um livro essencial e urgente, pois enquanto m...</td>\n",
              "      <td>120 páginas</td>\n",
              "      <td>Português</td>\n",
              "      <td>Companhia das Letras</td>\n",
              "      <td>Djamila Ribeiro</td>\n",
              "      <td>Biografia</td>\n",
              "      <td>https://m.media-amazon.com/images/I/41lj0rgZ5W...</td>\n",
              "      <td>978-8535931136</td>\n",
              "      <td>8535931139</td>\n",
              "      <td>https://www.amazon.com.br/Quem-tem-medo-femini...</td>\n",
              "    </tr>\n",
              "    <tr>\n",
              "      <th>2</th>\n",
              "      <td>O rei dos dividendos: A saga do filho de imigr...</td>\n",
              "      <td>\"O livro que você tem em mãos é uma inspiração...</td>\n",
              "      <td>256 páginas</td>\n",
              "      <td>Português</td>\n",
              "      <td>Editora Sextante</td>\n",
              "      <td>Luiz Barsi Filho</td>\n",
              "      <td>Biografia</td>\n",
              "      <td>https://m.media-amazon.com/images/I/51nBC1gqw5...</td>\n",
              "      <td>978-6555644746</td>\n",
              "      <td>6555644745</td>\n",
              "      <td>https://www.amazon.com.br/rei-dos-dividendos-i...</td>\n",
              "    </tr>\n",
              "    <tr>\n",
              "      <th>3</th>\n",
              "      <td>Minha História</td>\n",
              "      <td>Um relato íntimo, poderoso e inspirador da ex-...</td>\n",
              "      <td>464 páginas</td>\n",
              "      <td>Português</td>\n",
              "      <td>Objetiva</td>\n",
              "      <td>Michelle Obama</td>\n",
              "      <td>Biografia</td>\n",
              "      <td>https://m.media-amazon.com/images/I/41L-v8+K62...</td>\n",
              "      <td>978-8547000646</td>\n",
              "      <td>854700064X</td>\n",
              "      <td>https://www.amazon.com.br/Minha-Hist%C3%B3ria-...</td>\n",
              "    </tr>\n",
              "    <tr>\n",
              "      <th>4</th>\n",
              "      <td>A menina da montanha: A trajetória real da ame...</td>\n",
              "      <td>Eleito o livro do ano (2018) pela Amazon. Esco...</td>\n",
              "      <td>336 páginas</td>\n",
              "      <td>Português</td>\n",
              "      <td>Rocco</td>\n",
              "      <td>Tara Westover</td>\n",
              "      <td>Biografia</td>\n",
              "      <td>https://m.media-amazon.com/images/I/51xU-8rLw2...</td>\n",
              "      <td>978-8532531223</td>\n",
              "      <td>9788532531223</td>\n",
              "      <td>https://www.amazon.com.br/menina-montanha-traj...</td>\n",
              "    </tr>\n",
              "    <tr>\n",
              "      <th>...</th>\n",
              "      <td>...</td>\n",
              "      <td>...</td>\n",
              "      <td>...</td>\n",
              "      <td>...</td>\n",
              "      <td>...</td>\n",
              "      <td>...</td>\n",
              "      <td>...</td>\n",
              "      <td>...</td>\n",
              "      <td>...</td>\n",
              "      <td>...</td>\n",
              "      <td>...</td>\n",
              "    </tr>\n",
              "    <tr>\n",
              "      <th>84</th>\n",
              "      <td>Laranja Mecânica: Edição Comemorativa de 50 anos</td>\n",
              "      <td>Publicado pela primeira vez em 1962, e imortal...</td>\n",
              "      <td>352 páginas</td>\n",
              "      <td>Português</td>\n",
              "      <td>Editora Aleph</td>\n",
              "      <td>Anthony Burgess</td>\n",
              "      <td>Terror</td>\n",
              "      <td>https://m.media-amazon.com/images/I/41prBOUE3-...</td>\n",
              "      <td>978-8576571360</td>\n",
              "      <td>8576571366</td>\n",
              "      <td>https://www.amazon.com.br/Laranja-mec%C3%A2nic...</td>\n",
              "    </tr>\n",
              "    <tr>\n",
              "      <th>85</th>\n",
              "      <td>O cemitério</td>\n",
              "      <td>O livro que inspirou o filme O cemitério maldi...</td>\n",
              "      <td>424 páginas</td>\n",
              "      <td>Português</td>\n",
              "      <td>Suma</td>\n",
              "      <td>Mário Molina</td>\n",
              "      <td>Terror</td>\n",
              "      <td>https://m.media-amazon.com/images/I/41McBAhN-V...</td>\n",
              "      <td>978-8581050393</td>\n",
              "      <td>8581050395</td>\n",
              "      <td>https://www.amazon.com.br/cemit%C3%A9rio-Steph...</td>\n",
              "    </tr>\n",
              "    <tr>\n",
              "      <th>86</th>\n",
              "      <td>Ghost Story</td>\n",
              "      <td>Na pacata cidadezinha de Milburn, nos Estados ...</td>\n",
              "      <td>448 páginas</td>\n",
              "      <td>Português</td>\n",
              "      <td>Darkside</td>\n",
              "      <td>Peter Straub</td>\n",
              "      <td>Terror</td>\n",
              "      <td>https://m.media-amazon.com/images/I/515rWNDKqa...</td>\n",
              "      <td>978-8594541840</td>\n",
              "      <td>8594541848</td>\n",
              "      <td>https://www.amazon.com.br/Ghost-Story-Peter-St...</td>\n",
              "    </tr>\n",
              "    <tr>\n",
              "      <th>87</th>\n",
              "      <td>O vilarejo</td>\n",
              "      <td>lustrações coloridas dão vida a romance com el...</td>\n",
              "      <td>96 páginas</td>\n",
              "      <td>Português</td>\n",
              "      <td>Suma</td>\n",
              "      <td>Raphael Montes</td>\n",
              "      <td>Terror</td>\n",
              "      <td>https://m.media-amazon.com/images/I/41R9pm5hL-...</td>\n",
              "      <td>978-8581053042</td>\n",
              "      <td>8581053041</td>\n",
              "      <td>https://www.amazon.com.br/vilarejo-Raphael-Mon...</td>\n",
              "    </tr>\n",
              "    <tr>\n",
              "      <th>88</th>\n",
              "      <td>Carmilla - A vampira de Karnstein +: O Vampiro...</td>\n",
              "      <td>Essa edição traz a primeira vampira da históri...</td>\n",
              "      <td>176 páginas</td>\n",
              "      <td>Português</td>\n",
              "      <td>Pandorga Editora</td>\n",
              "      <td>Le Fanu J. Sheridan</td>\n",
              "      <td>Terror</td>\n",
              "      <td>https://m.media-amazon.com/images/I/51zlE2KLvQ...</td>\n",
              "      <td>978-6555791044</td>\n",
              "      <td>6555791047</td>\n",
              "      <td>https://www.amazon.com.br/Carmilla-vampira-Kar...</td>\n",
              "    </tr>\n",
              "  </tbody>\n",
              "</table>\n",
              "<p>89 rows × 11 columns</p>\n",
              "</div>\n",
              "    <div class=\"colab-df-buttons\">\n",
              "\n",
              "  <div class=\"colab-df-container\">\n",
              "    <button class=\"colab-df-convert\" onclick=\"convertToInteractive('df-29a6b2ec-c4bb-47d6-a1a8-8ee6aba74441')\"\n",
              "            title=\"Convert this dataframe to an interactive table.\"\n",
              "            style=\"display:none;\">\n",
              "\n",
              "  <svg xmlns=\"http://www.w3.org/2000/svg\" height=\"24px\" viewBox=\"0 -960 960 960\">\n",
              "    <path d=\"M120-120v-720h720v720H120Zm60-500h600v-160H180v160Zm220 220h160v-160H400v160Zm0 220h160v-160H400v160ZM180-400h160v-160H180v160Zm440 0h160v-160H620v160ZM180-180h160v-160H180v160Zm440 0h160v-160H620v160Z\"/>\n",
              "  </svg>\n",
              "    </button>\n",
              "\n",
              "  <style>\n",
              "    .colab-df-container {\n",
              "      display:flex;\n",
              "      gap: 12px;\n",
              "    }\n",
              "\n",
              "    .colab-df-convert {\n",
              "      background-color: #E8F0FE;\n",
              "      border: none;\n",
              "      border-radius: 50%;\n",
              "      cursor: pointer;\n",
              "      display: none;\n",
              "      fill: #1967D2;\n",
              "      height: 32px;\n",
              "      padding: 0 0 0 0;\n",
              "      width: 32px;\n",
              "    }\n",
              "\n",
              "    .colab-df-convert:hover {\n",
              "      background-color: #E2EBFA;\n",
              "      box-shadow: 0px 1px 2px rgba(60, 64, 67, 0.3), 0px 1px 3px 1px rgba(60, 64, 67, 0.15);\n",
              "      fill: #174EA6;\n",
              "    }\n",
              "\n",
              "    .colab-df-buttons div {\n",
              "      margin-bottom: 4px;\n",
              "    }\n",
              "\n",
              "    [theme=dark] .colab-df-convert {\n",
              "      background-color: #3B4455;\n",
              "      fill: #D2E3FC;\n",
              "    }\n",
              "\n",
              "    [theme=dark] .colab-df-convert:hover {\n",
              "      background-color: #434B5C;\n",
              "      box-shadow: 0px 1px 3px 1px rgba(0, 0, 0, 0.15);\n",
              "      filter: drop-shadow(0px 1px 2px rgba(0, 0, 0, 0.3));\n",
              "      fill: #FFFFFF;\n",
              "    }\n",
              "  </style>\n",
              "\n",
              "    <script>\n",
              "      const buttonEl =\n",
              "        document.querySelector('#df-29a6b2ec-c4bb-47d6-a1a8-8ee6aba74441 button.colab-df-convert');\n",
              "      buttonEl.style.display =\n",
              "        google.colab.kernel.accessAllowed ? 'block' : 'none';\n",
              "\n",
              "      async function convertToInteractive(key) {\n",
              "        const element = document.querySelector('#df-29a6b2ec-c4bb-47d6-a1a8-8ee6aba74441');\n",
              "        const dataTable =\n",
              "          await google.colab.kernel.invokeFunction('convertToInteractive',\n",
              "                                                    [key], {});\n",
              "        if (!dataTable) return;\n",
              "\n",
              "        const docLinkHtml = 'Like what you see? Visit the ' +\n",
              "          '<a target=\"_blank\" href=https://colab.research.google.com/notebooks/data_table.ipynb>data table notebook</a>'\n",
              "          + ' to learn more about interactive tables.';\n",
              "        element.innerHTML = '';\n",
              "        dataTable['output_type'] = 'display_data';\n",
              "        await google.colab.output.renderOutput(dataTable, element);\n",
              "        const docLink = document.createElement('div');\n",
              "        docLink.innerHTML = docLinkHtml;\n",
              "        element.appendChild(docLink);\n",
              "      }\n",
              "    </script>\n",
              "  </div>\n",
              "\n",
              "\n",
              "<div id=\"df-5dd3ff75-1be9-445a-a189-59ad80c38b7a\">\n",
              "  <button class=\"colab-df-quickchart\" onclick=\"quickchart('df-5dd3ff75-1be9-445a-a189-59ad80c38b7a')\"\n",
              "            title=\"Suggest charts.\"\n",
              "            style=\"display:none;\">\n",
              "\n",
              "<svg xmlns=\"http://www.w3.org/2000/svg\" height=\"24px\"viewBox=\"0 0 24 24\"\n",
              "     width=\"24px\">\n",
              "    <g>\n",
              "        <path d=\"M19 3H5c-1.1 0-2 .9-2 2v14c0 1.1.9 2 2 2h14c1.1 0 2-.9 2-2V5c0-1.1-.9-2-2-2zM9 17H7v-7h2v7zm4 0h-2V7h2v10zm4 0h-2v-4h2v4z\"/>\n",
              "    </g>\n",
              "</svg>\n",
              "  </button>\n",
              "\n",
              "<style>\n",
              "  .colab-df-quickchart {\n",
              "    background-color: #E8F0FE;\n",
              "    border: none;\n",
              "    border-radius: 50%;\n",
              "    cursor: pointer;\n",
              "    display: none;\n",
              "    fill: #1967D2;\n",
              "    height: 32px;\n",
              "    padding: 0 0 0 0;\n",
              "    width: 32px;\n",
              "  }\n",
              "\n",
              "  .colab-df-quickchart:hover {\n",
              "    background-color: #E2EBFA;\n",
              "    box-shadow: 0px 1px 2px rgba(60, 64, 67, 0.3), 0px 1px 3px 1px rgba(60, 64, 67, 0.15);\n",
              "    fill: #174EA6;\n",
              "  }\n",
              "\n",
              "  [theme=dark] .colab-df-quickchart {\n",
              "    background-color: #3B4455;\n",
              "    fill: #D2E3FC;\n",
              "  }\n",
              "\n",
              "  [theme=dark] .colab-df-quickchart:hover {\n",
              "    background-color: #434B5C;\n",
              "    box-shadow: 0px 1px 3px 1px rgba(0, 0, 0, 0.15);\n",
              "    filter: drop-shadow(0px 1px 2px rgba(0, 0, 0, 0.3));\n",
              "    fill: #FFFFFF;\n",
              "  }\n",
              "</style>\n",
              "\n",
              "  <script>\n",
              "    async function quickchart(key) {\n",
              "      const charts = await google.colab.kernel.invokeFunction(\n",
              "          'suggestCharts', [key], {});\n",
              "    }\n",
              "    (() => {\n",
              "      let quickchartButtonEl =\n",
              "        document.querySelector('#df-5dd3ff75-1be9-445a-a189-59ad80c38b7a button');\n",
              "      quickchartButtonEl.style.display =\n",
              "        google.colab.kernel.accessAllowed ? 'block' : 'none';\n",
              "    })();\n",
              "  </script>\n",
              "</div>\n",
              "    </div>\n",
              "  </div>\n"
            ]
          },
          "metadata": {}
        }
      ],
      "source": [
        "df = pd.DataFrame()\n",
        "for file_path in file_paths:\n",
        "    new_data = pd.read_csv(file_path)\n",
        "    df = pd.concat([df, new_data], axis=0)\n",
        "df.drop('Unnamed: 0', axis=1, inplace=True)\n",
        "df.reset_index(drop=True, inplace=True)\n",
        "display(df)"
      ]
    },
    {
      "cell_type": "markdown",
      "metadata": {
        "id": "oUF3Ua_pjLwz"
      },
      "source": [
        "# Data info"
      ]
    },
    {
      "cell_type": "code",
      "source": [
        "df.info()"
      ],
      "metadata": {
        "colab": {
          "base_uri": "https://localhost:8080/"
        },
        "id": "tA4U-AQpnhis",
        "outputId": "7d6b0478-f7a1-47f9-a4e6-1bbc83b7f28c"
      },
      "execution_count": 7,
      "outputs": [
        {
          "output_type": "stream",
          "name": "stdout",
          "text": [
            "<class 'pandas.core.frame.DataFrame'>\n",
            "RangeIndex: 89 entries, 0 to 88\n",
            "Data columns (total 11 columns):\n",
            " #   Column      Non-Null Count  Dtype \n",
            "---  ------      --------------  ----- \n",
            " 0   titulo      89 non-null     object\n",
            " 1   descricao   89 non-null     object\n",
            " 2   paginas     89 non-null     object\n",
            " 3   idioma      88 non-null     object\n",
            " 4   editora     81 non-null     object\n",
            " 5   autor       89 non-null     object\n",
            " 6   genero      89 non-null     object\n",
            " 7   imgLink     89 non-null     object\n",
            " 8   isbn13      89 non-null     object\n",
            " 9   isbn10      89 non-null     object\n",
            " 10  amazonLink  89 non-null     object\n",
            "dtypes: object(11)\n",
            "memory usage: 7.8+ KB\n"
          ]
        }
      ]
    },
    {
      "cell_type": "code",
      "execution_count": 8,
      "metadata": {
        "id": "lS8aSQ6UjLwz",
        "outputId": "d7e3f5b1-8622-459e-a466-077d3aea58e9",
        "colab": {
          "base_uri": "https://localhost:8080/"
        }
      },
      "outputs": [
        {
          "output_type": "execute_result",
          "data": {
            "text/plain": [
              "(89, 11)"
            ]
          },
          "metadata": {},
          "execution_count": 8
        }
      ],
      "source": [
        "df.shape"
      ]
    },
    {
      "cell_type": "code",
      "execution_count": 9,
      "metadata": {
        "id": "EyxYKDyyjLw0",
        "outputId": "7a2427bf-7919-4ee1-9265-a5f8507c6ae2",
        "colab": {
          "base_uri": "https://localhost:8080/"
        }
      },
      "outputs": [
        {
          "output_type": "execute_result",
          "data": {
            "text/plain": [
              "titulo        0\n",
              "descricao     0\n",
              "paginas       0\n",
              "idioma        1\n",
              "editora       8\n",
              "autor         0\n",
              "genero        0\n",
              "imgLink       0\n",
              "isbn13        0\n",
              "isbn10        0\n",
              "amazonLink    0\n",
              "dtype: int64"
            ]
          },
          "metadata": {},
          "execution_count": 9
        }
      ],
      "source": [
        "df.isnull().sum()"
      ]
    },
    {
      "cell_type": "markdown",
      "metadata": {
        "id": "JywxrsDFjLw0"
      },
      "source": [
        "# Data pre-processing"
      ]
    },
    {
      "cell_type": "markdown",
      "metadata": {
        "id": "C7Q29_5MjLw0"
      },
      "source": [
        "* Alterar coluna 'paginas' para int\n",
        "* Corrigir erro de informação na coluna 'editora'"
      ]
    },
    {
      "cell_type": "code",
      "execution_count": 10,
      "outputs": [
        {
          "output_type": "execute_result",
          "data": {
            "text/plain": [
              "Biografia                      10\n",
              "Ciências                       10\n",
              "Desenvolvimento Pessoal        10\n",
              "Ficção Científica              10\n",
              "Negócios e Empreendedorismo    10\n",
              "Romance                        10\n",
              "Tecnologia                     10\n",
              "Terror                         10\n",
              "Economia                        9\n",
              "Name: genero, dtype: int64"
            ]
          },
          "metadata": {},
          "execution_count": 10
        }
      ],
      "source": [
        "df['genero'].value_counts()"
      ],
      "metadata": {
        "id": "sMprJCiGjLw1",
        "outputId": "c525c4db-e140-42fb-84a6-aaf93dee95e1",
        "colab": {
          "base_uri": "https://localhost:8080/"
        }
      }
    },
    {
      "cell_type": "markdown",
      "metadata": {
        "id": "Pz4sLTVPjLw1"
      },
      "source": [
        "## Column 'page'"
      ]
    },
    {
      "cell_type": "code",
      "execution_count": 11,
      "metadata": {
        "id": "2S71kbuCjLw1",
        "outputId": "dce5a62a-b30f-4b4e-e16f-d5c0f388bb53",
        "colab": {
          "base_uri": "https://localhost:8080/"
        }
      },
      "outputs": [
        {
          "output_type": "execute_result",
          "data": {
            "text/plain": [
              "0     408\n",
              "1     120\n",
              "2     256\n",
              "3     464\n",
              "4     336\n",
              "     ... \n",
              "84    352\n",
              "85    424\n",
              "86    448\n",
              "87     96\n",
              "88    176\n",
              "Name: paginas, Length: 89, dtype: int64"
            ]
          },
          "metadata": {},
          "execution_count": 11
        }
      ],
      "source": [
        "new_page_data = []\n",
        "for pagina in df['paginas']:\n",
        "    new_page_data.append(int(pagina.replace(' páginas', '')))\n",
        "df['paginas'] = new_page_data\n",
        "df['paginas']"
      ]
    },
    {
      "cell_type": "markdown",
      "source": [
        "## Column 'editora'"
      ],
      "metadata": {
        "collapsed": false,
        "id": "TyExLSW-jLw2"
      }
    },
    {
      "cell_type": "code",
      "execution_count": 12,
      "outputs": [
        {
          "output_type": "execute_result",
          "data": {
            "text/plain": [
              "0             Garoa Livros\n",
              "1     Companhia das Letras\n",
              "2         Editora Sextante\n",
              "3                 Objetiva\n",
              "4                    Rocco\n",
              "              ...         \n",
              "84           Editora Aleph\n",
              "85                    Suma\n",
              "86                Darkside\n",
              "87                    Suma\n",
              "88        Pandorga Editora\n",
              "Name: editora, Length: 89, dtype: object"
            ]
          },
          "metadata": {},
          "execution_count": 12
        }
      ],
      "source": [
        "df['editora']"
      ],
      "metadata": {
        "id": "KJpqc53zjLw2",
        "outputId": "59b655a1-8c78-4aba-ebf8-108bd41fe386",
        "colab": {
          "base_uri": "https://localhost:8080/"
        }
      }
    },
    {
      "cell_type": "code",
      "execution_count": 13,
      "outputs": [
        {
          "output_type": "execute_result",
          "data": {
            "text/plain": [
              "Editora Sextante                           7\n",
              "Companhia das Letras                       6\n",
              "Novatec Editora                            6\n",
              "Alta Books                                 5\n",
              "Intrínseca                                 5\n",
              "Editora Arqueiro                           3\n",
              "Suma                                       3\n",
              "Contexto                                   3\n",
              "HarperCollins                              3\n",
              "Thomas Nelson Brasil                       3\n",
              "Objetiva                                   3\n",
              "Astral Cultural                            2\n",
              "Editora Aleph                              2\n",
              "Universo geek                              2\n",
              "Globo Livros                               2\n",
              "BestSeller                                 2\n",
              "Pearson Education Limited                  1\n",
              "Darkside                                   1\n",
              "Novo Século                                1\n",
              "Verus                                      1\n",
              "DVS EDITORA                                1\n",
              "Bookman                                    1\n",
              "Gente                                      1\n",
              "LTC                                        1\n",
              "Best Business                              1\n",
              "Paralela                                   1\n",
              "Garoa Livros                               1\n",
              "Editora Senac Rio                          1\n",
              "Bertrand Brasil                            1\n",
              "Talentos da Literatura Brasileira          1\n",
              "Boitempo Editorial                         1\n",
              "LVM Editora                                1\n",
              "Access Consciousness Publishing Company    1\n",
              "Academia                                   1\n",
              "Alta Life                                  1\n",
              "HarperKids                                 1\n",
              "Todavia                                    1\n",
              "Principis                                  1\n",
              "Rocco                                      1\n",
              "Pandorga Editora                           1\n",
              "Name: editora, dtype: int64"
            ]
          },
          "metadata": {},
          "execution_count": 13
        }
      ],
      "source": [
        "df['editora'].value_counts()"
      ],
      "metadata": {
        "id": "SoYj3wNajLw3",
        "outputId": "e4e5fc59-ddad-4118-9850-e1dd23d33e38",
        "colab": {
          "base_uri": "https://localhost:8080/"
        }
      }
    },
    {
      "cell_type": "markdown",
      "source": [
        "# Exporting to csv"
      ],
      "metadata": {
        "collapsed": false,
        "id": "HvohwOy2jLw9"
      }
    },
    {
      "cell_type": "code",
      "source": [
        "import os\n",
        "os.mkdir('resultado')"
      ],
      "metadata": {
        "id": "GfcGMRkbS8TT"
      },
      "execution_count": 14,
      "outputs": []
    },
    {
      "cell_type": "code",
      "execution_count": 15,
      "outputs": [],
      "source": [
        "df.to_json('./resultado/livros.json')"
      ],
      "metadata": {
        "id": "ps5drjSWjLw9"
      }
    },
    {
      "cell_type": "code",
      "execution_count": 16,
      "outputs": [
        {
          "output_type": "execute_result",
          "data": {
            "text/plain": [
              "                                               titulo  \\\n",
              "0   Cabeça Fria, Coração Quente: Uma viagem pelos ...   \n",
              "1                   Quem tem medo do feminismo negro?   \n",
              "2   O rei dos dividendos: A saga do filho de imigr...   \n",
              "3                                      Minha História   \n",
              "4   A menina da montanha: A trajetória real da ame...   \n",
              "..                                                ...   \n",
              "84   Laranja Mecânica: Edição Comemorativa de 50 anos   \n",
              "85                                        O cemitério   \n",
              "86                                        Ghost Story   \n",
              "87                                         O vilarejo   \n",
              "88  Carmilla - A vampira de Karnstein +: O Vampiro...   \n",
              "\n",
              "                                            descricao  paginas     idioma  \\\n",
              "0   Escrito em primeira pessoa pela equipa técnica...      408  Português   \n",
              "1   \"Um livro essencial e urgente, pois enquanto m...      120  Português   \n",
              "2   \"O livro que você tem em mãos é uma inspiração...      256  Português   \n",
              "3   Um relato íntimo, poderoso e inspirador da ex-...      464  Português   \n",
              "4   Eleito o livro do ano (2018) pela Amazon. Esco...      336  Português   \n",
              "..                                                ...      ...        ...   \n",
              "84  Publicado pela primeira vez em 1962, e imortal...      352  Português   \n",
              "85  O livro que inspirou o filme O cemitério maldi...      424  Português   \n",
              "86  Na pacata cidadezinha de Milburn, nos Estados ...      448  Português   \n",
              "87  lustrações coloridas dão vida a romance com el...       96  Português   \n",
              "88  Essa edição traz a primeira vampira da históri...      176  Português   \n",
              "\n",
              "                 editora                autor     genero  \\\n",
              "0           Garoa Livros        Abel Ferreira  Biografia   \n",
              "1   Companhia das Letras      Djamila Ribeiro  Biografia   \n",
              "2       Editora Sextante     Luiz Barsi Filho  Biografia   \n",
              "3               Objetiva       Michelle Obama  Biografia   \n",
              "4                  Rocco        Tara Westover  Biografia   \n",
              "..                   ...                  ...        ...   \n",
              "84         Editora Aleph      Anthony Burgess     Terror   \n",
              "85                  Suma         Mário Molina     Terror   \n",
              "86              Darkside         Peter Straub     Terror   \n",
              "87                  Suma       Raphael Montes     Terror   \n",
              "88      Pandorga Editora  Le Fanu J. Sheridan     Terror   \n",
              "\n",
              "                                              imgLink          isbn13  \\\n",
              "0   https://m.media-amazon.com/images/I/413zVMkCRV...  978-6599096389   \n",
              "1   https://m.media-amazon.com/images/I/41lj0rgZ5W...  978-8535931136   \n",
              "2   https://m.media-amazon.com/images/I/51nBC1gqw5...  978-6555644746   \n",
              "3   https://m.media-amazon.com/images/I/41L-v8+K62...  978-8547000646   \n",
              "4   https://m.media-amazon.com/images/I/51xU-8rLw2...  978-8532531223   \n",
              "..                                                ...             ...   \n",
              "84  https://m.media-amazon.com/images/I/41prBOUE3-...  978-8576571360   \n",
              "85  https://m.media-amazon.com/images/I/41McBAhN-V...  978-8581050393   \n",
              "86  https://m.media-amazon.com/images/I/515rWNDKqa...  978-8594541840   \n",
              "87  https://m.media-amazon.com/images/I/41R9pm5hL-...  978-8581053042   \n",
              "88  https://m.media-amazon.com/images/I/51zlE2KLvQ...  978-6555791044   \n",
              "\n",
              "           isbn10                                         amazonLink  \n",
              "0      6599096387  https://www.amazon.com.br/Cora%C3%A7%C3%A3o-Ma...  \n",
              "1      8535931139  https://www.amazon.com.br/Quem-tem-medo-femini...  \n",
              "2      6555644745  https://www.amazon.com.br/rei-dos-dividendos-i...  \n",
              "3      854700064X  https://www.amazon.com.br/Minha-Hist%C3%B3ria-...  \n",
              "4   9788532531223  https://www.amazon.com.br/menina-montanha-traj...  \n",
              "..            ...                                                ...  \n",
              "84     8576571366  https://www.amazon.com.br/Laranja-mec%C3%A2nic...  \n",
              "85     8581050395  https://www.amazon.com.br/cemit%C3%A9rio-Steph...  \n",
              "86     8594541848  https://www.amazon.com.br/Ghost-Story-Peter-St...  \n",
              "87     8581053041  https://www.amazon.com.br/vilarejo-Raphael-Mon...  \n",
              "88     6555791047  https://www.amazon.com.br/Carmilla-vampira-Kar...  \n",
              "\n",
              "[89 rows x 11 columns]"
            ],
            "text/html": [
              "\n",
              "  <div id=\"df-2ad1fd80-0828-4d8a-8e3d-85a377ffd7a7\" class=\"colab-df-container\">\n",
              "    <div>\n",
              "<style scoped>\n",
              "    .dataframe tbody tr th:only-of-type {\n",
              "        vertical-align: middle;\n",
              "    }\n",
              "\n",
              "    .dataframe tbody tr th {\n",
              "        vertical-align: top;\n",
              "    }\n",
              "\n",
              "    .dataframe thead th {\n",
              "        text-align: right;\n",
              "    }\n",
              "</style>\n",
              "<table border=\"1\" class=\"dataframe\">\n",
              "  <thead>\n",
              "    <tr style=\"text-align: right;\">\n",
              "      <th></th>\n",
              "      <th>titulo</th>\n",
              "      <th>descricao</th>\n",
              "      <th>paginas</th>\n",
              "      <th>idioma</th>\n",
              "      <th>editora</th>\n",
              "      <th>autor</th>\n",
              "      <th>genero</th>\n",
              "      <th>imgLink</th>\n",
              "      <th>isbn13</th>\n",
              "      <th>isbn10</th>\n",
              "      <th>amazonLink</th>\n",
              "    </tr>\n",
              "  </thead>\n",
              "  <tbody>\n",
              "    <tr>\n",
              "      <th>0</th>\n",
              "      <td>Cabeça Fria, Coração Quente: Uma viagem pelos ...</td>\n",
              "      <td>Escrito em primeira pessoa pela equipa técnica...</td>\n",
              "      <td>408</td>\n",
              "      <td>Português</td>\n",
              "      <td>Garoa Livros</td>\n",
              "      <td>Abel Ferreira</td>\n",
              "      <td>Biografia</td>\n",
              "      <td>https://m.media-amazon.com/images/I/413zVMkCRV...</td>\n",
              "      <td>978-6599096389</td>\n",
              "      <td>6599096387</td>\n",
              "      <td>https://www.amazon.com.br/Cora%C3%A7%C3%A3o-Ma...</td>\n",
              "    </tr>\n",
              "    <tr>\n",
              "      <th>1</th>\n",
              "      <td>Quem tem medo do feminismo negro?</td>\n",
              "      <td>\"Um livro essencial e urgente, pois enquanto m...</td>\n",
              "      <td>120</td>\n",
              "      <td>Português</td>\n",
              "      <td>Companhia das Letras</td>\n",
              "      <td>Djamila Ribeiro</td>\n",
              "      <td>Biografia</td>\n",
              "      <td>https://m.media-amazon.com/images/I/41lj0rgZ5W...</td>\n",
              "      <td>978-8535931136</td>\n",
              "      <td>8535931139</td>\n",
              "      <td>https://www.amazon.com.br/Quem-tem-medo-femini...</td>\n",
              "    </tr>\n",
              "    <tr>\n",
              "      <th>2</th>\n",
              "      <td>O rei dos dividendos: A saga do filho de imigr...</td>\n",
              "      <td>\"O livro que você tem em mãos é uma inspiração...</td>\n",
              "      <td>256</td>\n",
              "      <td>Português</td>\n",
              "      <td>Editora Sextante</td>\n",
              "      <td>Luiz Barsi Filho</td>\n",
              "      <td>Biografia</td>\n",
              "      <td>https://m.media-amazon.com/images/I/51nBC1gqw5...</td>\n",
              "      <td>978-6555644746</td>\n",
              "      <td>6555644745</td>\n",
              "      <td>https://www.amazon.com.br/rei-dos-dividendos-i...</td>\n",
              "    </tr>\n",
              "    <tr>\n",
              "      <th>3</th>\n",
              "      <td>Minha História</td>\n",
              "      <td>Um relato íntimo, poderoso e inspirador da ex-...</td>\n",
              "      <td>464</td>\n",
              "      <td>Português</td>\n",
              "      <td>Objetiva</td>\n",
              "      <td>Michelle Obama</td>\n",
              "      <td>Biografia</td>\n",
              "      <td>https://m.media-amazon.com/images/I/41L-v8+K62...</td>\n",
              "      <td>978-8547000646</td>\n",
              "      <td>854700064X</td>\n",
              "      <td>https://www.amazon.com.br/Minha-Hist%C3%B3ria-...</td>\n",
              "    </tr>\n",
              "    <tr>\n",
              "      <th>4</th>\n",
              "      <td>A menina da montanha: A trajetória real da ame...</td>\n",
              "      <td>Eleito o livro do ano (2018) pela Amazon. Esco...</td>\n",
              "      <td>336</td>\n",
              "      <td>Português</td>\n",
              "      <td>Rocco</td>\n",
              "      <td>Tara Westover</td>\n",
              "      <td>Biografia</td>\n",
              "      <td>https://m.media-amazon.com/images/I/51xU-8rLw2...</td>\n",
              "      <td>978-8532531223</td>\n",
              "      <td>9788532531223</td>\n",
              "      <td>https://www.amazon.com.br/menina-montanha-traj...</td>\n",
              "    </tr>\n",
              "    <tr>\n",
              "      <th>...</th>\n",
              "      <td>...</td>\n",
              "      <td>...</td>\n",
              "      <td>...</td>\n",
              "      <td>...</td>\n",
              "      <td>...</td>\n",
              "      <td>...</td>\n",
              "      <td>...</td>\n",
              "      <td>...</td>\n",
              "      <td>...</td>\n",
              "      <td>...</td>\n",
              "      <td>...</td>\n",
              "    </tr>\n",
              "    <tr>\n",
              "      <th>84</th>\n",
              "      <td>Laranja Mecânica: Edição Comemorativa de 50 anos</td>\n",
              "      <td>Publicado pela primeira vez em 1962, e imortal...</td>\n",
              "      <td>352</td>\n",
              "      <td>Português</td>\n",
              "      <td>Editora Aleph</td>\n",
              "      <td>Anthony Burgess</td>\n",
              "      <td>Terror</td>\n",
              "      <td>https://m.media-amazon.com/images/I/41prBOUE3-...</td>\n",
              "      <td>978-8576571360</td>\n",
              "      <td>8576571366</td>\n",
              "      <td>https://www.amazon.com.br/Laranja-mec%C3%A2nic...</td>\n",
              "    </tr>\n",
              "    <tr>\n",
              "      <th>85</th>\n",
              "      <td>O cemitério</td>\n",
              "      <td>O livro que inspirou o filme O cemitério maldi...</td>\n",
              "      <td>424</td>\n",
              "      <td>Português</td>\n",
              "      <td>Suma</td>\n",
              "      <td>Mário Molina</td>\n",
              "      <td>Terror</td>\n",
              "      <td>https://m.media-amazon.com/images/I/41McBAhN-V...</td>\n",
              "      <td>978-8581050393</td>\n",
              "      <td>8581050395</td>\n",
              "      <td>https://www.amazon.com.br/cemit%C3%A9rio-Steph...</td>\n",
              "    </tr>\n",
              "    <tr>\n",
              "      <th>86</th>\n",
              "      <td>Ghost Story</td>\n",
              "      <td>Na pacata cidadezinha de Milburn, nos Estados ...</td>\n",
              "      <td>448</td>\n",
              "      <td>Português</td>\n",
              "      <td>Darkside</td>\n",
              "      <td>Peter Straub</td>\n",
              "      <td>Terror</td>\n",
              "      <td>https://m.media-amazon.com/images/I/515rWNDKqa...</td>\n",
              "      <td>978-8594541840</td>\n",
              "      <td>8594541848</td>\n",
              "      <td>https://www.amazon.com.br/Ghost-Story-Peter-St...</td>\n",
              "    </tr>\n",
              "    <tr>\n",
              "      <th>87</th>\n",
              "      <td>O vilarejo</td>\n",
              "      <td>lustrações coloridas dão vida a romance com el...</td>\n",
              "      <td>96</td>\n",
              "      <td>Português</td>\n",
              "      <td>Suma</td>\n",
              "      <td>Raphael Montes</td>\n",
              "      <td>Terror</td>\n",
              "      <td>https://m.media-amazon.com/images/I/41R9pm5hL-...</td>\n",
              "      <td>978-8581053042</td>\n",
              "      <td>8581053041</td>\n",
              "      <td>https://www.amazon.com.br/vilarejo-Raphael-Mon...</td>\n",
              "    </tr>\n",
              "    <tr>\n",
              "      <th>88</th>\n",
              "      <td>Carmilla - A vampira de Karnstein +: O Vampiro...</td>\n",
              "      <td>Essa edição traz a primeira vampira da históri...</td>\n",
              "      <td>176</td>\n",
              "      <td>Português</td>\n",
              "      <td>Pandorga Editora</td>\n",
              "      <td>Le Fanu J. Sheridan</td>\n",
              "      <td>Terror</td>\n",
              "      <td>https://m.media-amazon.com/images/I/51zlE2KLvQ...</td>\n",
              "      <td>978-6555791044</td>\n",
              "      <td>6555791047</td>\n",
              "      <td>https://www.amazon.com.br/Carmilla-vampira-Kar...</td>\n",
              "    </tr>\n",
              "  </tbody>\n",
              "</table>\n",
              "<p>89 rows × 11 columns</p>\n",
              "</div>\n",
              "    <div class=\"colab-df-buttons\">\n",
              "\n",
              "  <div class=\"colab-df-container\">\n",
              "    <button class=\"colab-df-convert\" onclick=\"convertToInteractive('df-2ad1fd80-0828-4d8a-8e3d-85a377ffd7a7')\"\n",
              "            title=\"Convert this dataframe to an interactive table.\"\n",
              "            style=\"display:none;\">\n",
              "\n",
              "  <svg xmlns=\"http://www.w3.org/2000/svg\" height=\"24px\" viewBox=\"0 -960 960 960\">\n",
              "    <path d=\"M120-120v-720h720v720H120Zm60-500h600v-160H180v160Zm220 220h160v-160H400v160Zm0 220h160v-160H400v160ZM180-400h160v-160H180v160Zm440 0h160v-160H620v160ZM180-180h160v-160H180v160Zm440 0h160v-160H620v160Z\"/>\n",
              "  </svg>\n",
              "    </button>\n",
              "\n",
              "  <style>\n",
              "    .colab-df-container {\n",
              "      display:flex;\n",
              "      gap: 12px;\n",
              "    }\n",
              "\n",
              "    .colab-df-convert {\n",
              "      background-color: #E8F0FE;\n",
              "      border: none;\n",
              "      border-radius: 50%;\n",
              "      cursor: pointer;\n",
              "      display: none;\n",
              "      fill: #1967D2;\n",
              "      height: 32px;\n",
              "      padding: 0 0 0 0;\n",
              "      width: 32px;\n",
              "    }\n",
              "\n",
              "    .colab-df-convert:hover {\n",
              "      background-color: #E2EBFA;\n",
              "      box-shadow: 0px 1px 2px rgba(60, 64, 67, 0.3), 0px 1px 3px 1px rgba(60, 64, 67, 0.15);\n",
              "      fill: #174EA6;\n",
              "    }\n",
              "\n",
              "    .colab-df-buttons div {\n",
              "      margin-bottom: 4px;\n",
              "    }\n",
              "\n",
              "    [theme=dark] .colab-df-convert {\n",
              "      background-color: #3B4455;\n",
              "      fill: #D2E3FC;\n",
              "    }\n",
              "\n",
              "    [theme=dark] .colab-df-convert:hover {\n",
              "      background-color: #434B5C;\n",
              "      box-shadow: 0px 1px 3px 1px rgba(0, 0, 0, 0.15);\n",
              "      filter: drop-shadow(0px 1px 2px rgba(0, 0, 0, 0.3));\n",
              "      fill: #FFFFFF;\n",
              "    }\n",
              "  </style>\n",
              "\n",
              "    <script>\n",
              "      const buttonEl =\n",
              "        document.querySelector('#df-2ad1fd80-0828-4d8a-8e3d-85a377ffd7a7 button.colab-df-convert');\n",
              "      buttonEl.style.display =\n",
              "        google.colab.kernel.accessAllowed ? 'block' : 'none';\n",
              "\n",
              "      async function convertToInteractive(key) {\n",
              "        const element = document.querySelector('#df-2ad1fd80-0828-4d8a-8e3d-85a377ffd7a7');\n",
              "        const dataTable =\n",
              "          await google.colab.kernel.invokeFunction('convertToInteractive',\n",
              "                                                    [key], {});\n",
              "        if (!dataTable) return;\n",
              "\n",
              "        const docLinkHtml = 'Like what you see? Visit the ' +\n",
              "          '<a target=\"_blank\" href=https://colab.research.google.com/notebooks/data_table.ipynb>data table notebook</a>'\n",
              "          + ' to learn more about interactive tables.';\n",
              "        element.innerHTML = '';\n",
              "        dataTable['output_type'] = 'display_data';\n",
              "        await google.colab.output.renderOutput(dataTable, element);\n",
              "        const docLink = document.createElement('div');\n",
              "        docLink.innerHTML = docLinkHtml;\n",
              "        element.appendChild(docLink);\n",
              "      }\n",
              "    </script>\n",
              "  </div>\n",
              "\n",
              "\n",
              "<div id=\"df-cbe91cd4-1b39-46ca-a33c-03291a45188e\">\n",
              "  <button class=\"colab-df-quickchart\" onclick=\"quickchart('df-cbe91cd4-1b39-46ca-a33c-03291a45188e')\"\n",
              "            title=\"Suggest charts.\"\n",
              "            style=\"display:none;\">\n",
              "\n",
              "<svg xmlns=\"http://www.w3.org/2000/svg\" height=\"24px\"viewBox=\"0 0 24 24\"\n",
              "     width=\"24px\">\n",
              "    <g>\n",
              "        <path d=\"M19 3H5c-1.1 0-2 .9-2 2v14c0 1.1.9 2 2 2h14c1.1 0 2-.9 2-2V5c0-1.1-.9-2-2-2zM9 17H7v-7h2v7zm4 0h-2V7h2v10zm4 0h-2v-4h2v4z\"/>\n",
              "    </g>\n",
              "</svg>\n",
              "  </button>\n",
              "\n",
              "<style>\n",
              "  .colab-df-quickchart {\n",
              "    background-color: #E8F0FE;\n",
              "    border: none;\n",
              "    border-radius: 50%;\n",
              "    cursor: pointer;\n",
              "    display: none;\n",
              "    fill: #1967D2;\n",
              "    height: 32px;\n",
              "    padding: 0 0 0 0;\n",
              "    width: 32px;\n",
              "  }\n",
              "\n",
              "  .colab-df-quickchart:hover {\n",
              "    background-color: #E2EBFA;\n",
              "    box-shadow: 0px 1px 2px rgba(60, 64, 67, 0.3), 0px 1px 3px 1px rgba(60, 64, 67, 0.15);\n",
              "    fill: #174EA6;\n",
              "  }\n",
              "\n",
              "  [theme=dark] .colab-df-quickchart {\n",
              "    background-color: #3B4455;\n",
              "    fill: #D2E3FC;\n",
              "  }\n",
              "\n",
              "  [theme=dark] .colab-df-quickchart:hover {\n",
              "    background-color: #434B5C;\n",
              "    box-shadow: 0px 1px 3px 1px rgba(0, 0, 0, 0.15);\n",
              "    filter: drop-shadow(0px 1px 2px rgba(0, 0, 0, 0.3));\n",
              "    fill: #FFFFFF;\n",
              "  }\n",
              "</style>\n",
              "\n",
              "  <script>\n",
              "    async function quickchart(key) {\n",
              "      const charts = await google.colab.kernel.invokeFunction(\n",
              "          'suggestCharts', [key], {});\n",
              "    }\n",
              "    (() => {\n",
              "      let quickchartButtonEl =\n",
              "        document.querySelector('#df-cbe91cd4-1b39-46ca-a33c-03291a45188e button');\n",
              "      quickchartButtonEl.style.display =\n",
              "        google.colab.kernel.accessAllowed ? 'block' : 'none';\n",
              "    })();\n",
              "  </script>\n",
              "</div>\n",
              "    </div>\n",
              "  </div>\n"
            ]
          },
          "metadata": {},
          "execution_count": 16
        }
      ],
      "source": [
        "pd.read_json('./resultado/livros.json')"
      ],
      "metadata": {
        "id": "bONHYY2_jLw9",
        "outputId": "8566626c-0fa2-4949-cebc-d1170c92d835",
        "colab": {
          "base_uri": "https://localhost:8080/",
          "height": 1000
        }
      }
    }
  ],
  "metadata": {
    "kernelspec": {
      "display_name": "Python 3 (ipykernel)",
      "language": "python",
      "name": "python3"
    },
    "language_info": {
      "codemirror_mode": {
        "name": "ipython",
        "version": 3
      },
      "file_extension": ".py",
      "mimetype": "text/x-python",
      "name": "python",
      "nbconvert_exporter": "python",
      "pygments_lexer": "ipython3",
      "version": "3.10.6"
    },
    "colab": {
      "provenance": []
    }
  },
  "nbformat": 4,
  "nbformat_minor": 0
}