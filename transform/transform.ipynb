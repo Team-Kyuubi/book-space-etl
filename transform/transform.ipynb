{
  "cells": [
    {
      "cell_type": "code",
      "execution_count": 1,
      "metadata": {
        "collapsed": true,
        "id": "RmAV10cHjLwt"
      },
      "outputs": [],
      "source": [
        "import pandas as pd\n",
        "import numpy as np\n",
        "import os"
      ]
    },
    {
      "cell_type": "markdown",
      "source": [
        "### Feito com Google Colab"
      ],
      "metadata": {
        "id": "1MK9HaomjMxh"
      }
    },
    {
      "cell_type": "code",
      "source": [
        "from google.colab import drive\n",
        "drive.mount('/content/drive')"
      ],
      "metadata": {
        "colab": {
          "base_uri": "https://localhost:8080/"
        },
        "id": "czxc_ylRjR4w",
        "outputId": "3eab4846-e996-4fd4-9f4d-b9f404115f24"
      },
      "execution_count": 2,
      "outputs": [
        {
          "output_type": "stream",
          "name": "stdout",
          "text": [
            "Mounted at /content/drive\n"
          ]
        }
      ]
    },
    {
      "cell_type": "markdown",
      "metadata": {
        "id": "w9OD7QDIjLwv"
      },
      "source": [
        "# Importing csv files"
      ]
    },
    {
      "cell_type": "code",
      "execution_count": 3,
      "metadata": {
        "id": "cq9OhdP1jLww"
      },
      "outputs": [],
      "source": [
        "base_path = '/content/drive/MyDrive/Book Space/Desenvolvimento/ETL/extracoes'"
      ]
    },
    {
      "cell_type": "code",
      "execution_count": 4,
      "metadata": {
        "colab": {
          "base_uri": "https://localhost:8080/"
        },
        "id": "dCxEwbnmjLwx",
        "outputId": "7c9bb884-8ddf-49e9-d640-8df1d7608918"
      },
      "outputs": [
        {
          "output_type": "stream",
          "name": "stdout",
          "text": [
            "['Biografia.csv', 'Ciências.csv', 'Desenvolvimento Pessoal.csv', 'Economia.csv', 'Ficção Científica.csv', 'Negócios e Empreendedorismo.csv', 'Romance.csv', 'Tecnologia.csv', 'Terror.csv']\n"
          ]
        }
      ],
      "source": [
        "file_names = []\n",
        "for root, dirs, files in os.walk(base_path):\n",
        "    file_names = files\n",
        "print(file_names)"
      ]
    },
    {
      "cell_type": "code",
      "execution_count": 5,
      "metadata": {
        "colab": {
          "base_uri": "https://localhost:8080/"
        },
        "id": "dKigGi9SjLwy",
        "outputId": "7c198e17-31e1-4239-b509-a08969869f1d"
      },
      "outputs": [
        {
          "output_type": "stream",
          "name": "stdout",
          "text": [
            "['/content/drive/MyDrive/Book Space/Desenvolvimento/ETL/extracoes/Biografia.csv', '/content/drive/MyDrive/Book Space/Desenvolvimento/ETL/extracoes/Ciências.csv', '/content/drive/MyDrive/Book Space/Desenvolvimento/ETL/extracoes/Desenvolvimento Pessoal.csv', '/content/drive/MyDrive/Book Space/Desenvolvimento/ETL/extracoes/Economia.csv', '/content/drive/MyDrive/Book Space/Desenvolvimento/ETL/extracoes/Ficção Científica.csv', '/content/drive/MyDrive/Book Space/Desenvolvimento/ETL/extracoes/Negócios e Empreendedorismo.csv', '/content/drive/MyDrive/Book Space/Desenvolvimento/ETL/extracoes/Romance.csv', '/content/drive/MyDrive/Book Space/Desenvolvimento/ETL/extracoes/Tecnologia.csv', '/content/drive/MyDrive/Book Space/Desenvolvimento/ETL/extracoes/Terror.csv']\n"
          ]
        }
      ],
      "source": [
        "file_paths = []\n",
        "for file in file_names:\n",
        "    file_paths.append(base_path+'/'+file)\n",
        "print(file_paths)"
      ]
    },
    {
      "cell_type": "code",
      "execution_count": 6,
      "metadata": {
        "colab": {
          "base_uri": "https://localhost:8080/",
          "height": 424
        },
        "id": "cIaURp8xjLwy",
        "outputId": "5f629ef5-6fb0-4c0c-f26f-173f7c0845d3"
      },
      "outputs": [
        {
          "output_type": "display_data",
          "data": {
            "text/plain": [
              "                                               titulo  \\\n",
              "0   Cabeça Fria, Coração Quente: Uma viagem pelos ...   \n",
              "1                   Quem tem medo do feminismo negro?   \n",
              "2   O rei dos dividendos: A saga do filho de imigr...   \n",
              "3                                      Minha História   \n",
              "4   A menina da montanha: A trajetória real da ame...   \n",
              "..                                                ...   \n",
              "84   Laranja Mecânica: Edição Comemorativa de 50 anos   \n",
              "85                                        O cemitério   \n",
              "86                                        Ghost Story   \n",
              "87                                         O vilarejo   \n",
              "88  Carmilla - A vampira de Karnstein +: O Vampiro...   \n",
              "\n",
              "                                            descricao      paginas     idioma  \\\n",
              "0   Escrito em primeira pessoa pela equipa técnica...  408 páginas  Português   \n",
              "1   \"Um livro essencial e urgente, pois enquanto m...  120 páginas  Português   \n",
              "2   \"O livro que você tem em mãos é uma inspiração...  256 páginas  Português   \n",
              "3   Um relato íntimo, poderoso e inspirador da ex-...  464 páginas  Português   \n",
              "4   Eleito o livro do ano (2018) pela Amazon. Esco...  336 páginas  Português   \n",
              "..                                                ...          ...        ...   \n",
              "84  Publicado pela primeira vez em 1962, e imortal...  352 páginas  Português   \n",
              "85  O livro que inspirou o filme O cemitério maldi...  424 páginas  Português   \n",
              "86  Na pacata cidadezinha de Milburn, nos Estados ...  448 páginas  Português   \n",
              "87  lustrações coloridas dão vida a romance com el...   96 páginas  Português   \n",
              "88  Essa edição traz a primeira vampira da históri...  176 páginas  Português   \n",
              "\n",
              "                 editora                autor     genero  \\\n",
              "0           Garoa Livros        Abel Ferreira  Biografia   \n",
              "1   Companhia das Letras      Djamila Ribeiro  Biografia   \n",
              "2       Editora Sextante     Luiz Barsi Filho  Biografia   \n",
              "3               Objetiva       Michelle Obama  Biografia   \n",
              "4                  Rocco        Tara Westover  Biografia   \n",
              "..                   ...                  ...        ...   \n",
              "84         Editora Aleph      Anthony Burgess     Terror   \n",
              "85                  Suma         Mário Molina     Terror   \n",
              "86              Darkside         Peter Straub     Terror   \n",
              "87                  Suma       Raphael Montes     Terror   \n",
              "88      Pandorga Editora  Le Fanu J. Sheridan     Terror   \n",
              "\n",
              "                                             img_link         isbn_13  \\\n",
              "0   https://m.media-amazon.com/images/I/413zVMkCRV...  978-6599096389   \n",
              "1   https://m.media-amazon.com/images/I/41lj0rgZ5W...  978-8535931136   \n",
              "2   https://m.media-amazon.com/images/I/51nBC1gqw5...  978-6555644746   \n",
              "3   https://m.media-amazon.com/images/I/41L-v8+K62...  978-8547000646   \n",
              "4   https://m.media-amazon.com/images/I/51xU-8rLw2...  978-8532531223   \n",
              "..                                                ...             ...   \n",
              "84  https://m.media-amazon.com/images/I/51w6f1tDKK...  978-8576571360   \n",
              "85  https://m.media-amazon.com/images/I/41McBAhN-V...  978-8581050393   \n",
              "86  https://m.media-amazon.com/images/I/515rWNDKqa...  978-8594541840   \n",
              "87  https://m.media-amazon.com/images/I/41R9pm5hL-...  978-8581053042   \n",
              "88  https://m.media-amazon.com/images/I/51zlE2KLvQ...  978-6555791044   \n",
              "\n",
              "          isbn_10  \n",
              "0      6599096387  \n",
              "1      8535931139  \n",
              "2      6555644745  \n",
              "3      854700064X  \n",
              "4   9788532531223  \n",
              "..            ...  \n",
              "84     8576571366  \n",
              "85     8581050395  \n",
              "86     8594541848  \n",
              "87     8581053041  \n",
              "88     6555791047  \n",
              "\n",
              "[89 rows x 10 columns]"
            ],
            "text/html": [
              "\n",
              "\n",
              "  <div id=\"df-34ce57cc-c29a-47a7-9752-564fa9db15b3\">\n",
              "    <div class=\"colab-df-container\">\n",
              "      <div>\n",
              "<style scoped>\n",
              "    .dataframe tbody tr th:only-of-type {\n",
              "        vertical-align: middle;\n",
              "    }\n",
              "\n",
              "    .dataframe tbody tr th {\n",
              "        vertical-align: top;\n",
              "    }\n",
              "\n",
              "    .dataframe thead th {\n",
              "        text-align: right;\n",
              "    }\n",
              "</style>\n",
              "<table border=\"1\" class=\"dataframe\">\n",
              "  <thead>\n",
              "    <tr style=\"text-align: right;\">\n",
              "      <th></th>\n",
              "      <th>titulo</th>\n",
              "      <th>descricao</th>\n",
              "      <th>paginas</th>\n",
              "      <th>idioma</th>\n",
              "      <th>editora</th>\n",
              "      <th>autor</th>\n",
              "      <th>genero</th>\n",
              "      <th>img_link</th>\n",
              "      <th>isbn_13</th>\n",
              "      <th>isbn_10</th>\n",
              "    </tr>\n",
              "  </thead>\n",
              "  <tbody>\n",
              "    <tr>\n",
              "      <th>0</th>\n",
              "      <td>Cabeça Fria, Coração Quente: Uma viagem pelos ...</td>\n",
              "      <td>Escrito em primeira pessoa pela equipa técnica...</td>\n",
              "      <td>408 páginas</td>\n",
              "      <td>Português</td>\n",
              "      <td>Garoa Livros</td>\n",
              "      <td>Abel Ferreira</td>\n",
              "      <td>Biografia</td>\n",
              "      <td>https://m.media-amazon.com/images/I/413zVMkCRV...</td>\n",
              "      <td>978-6599096389</td>\n",
              "      <td>6599096387</td>\n",
              "    </tr>\n",
              "    <tr>\n",
              "      <th>1</th>\n",
              "      <td>Quem tem medo do feminismo negro?</td>\n",
              "      <td>\"Um livro essencial e urgente, pois enquanto m...</td>\n",
              "      <td>120 páginas</td>\n",
              "      <td>Português</td>\n",
              "      <td>Companhia das Letras</td>\n",
              "      <td>Djamila Ribeiro</td>\n",
              "      <td>Biografia</td>\n",
              "      <td>https://m.media-amazon.com/images/I/41lj0rgZ5W...</td>\n",
              "      <td>978-8535931136</td>\n",
              "      <td>8535931139</td>\n",
              "    </tr>\n",
              "    <tr>\n",
              "      <th>2</th>\n",
              "      <td>O rei dos dividendos: A saga do filho de imigr...</td>\n",
              "      <td>\"O livro que você tem em mãos é uma inspiração...</td>\n",
              "      <td>256 páginas</td>\n",
              "      <td>Português</td>\n",
              "      <td>Editora Sextante</td>\n",
              "      <td>Luiz Barsi Filho</td>\n",
              "      <td>Biografia</td>\n",
              "      <td>https://m.media-amazon.com/images/I/51nBC1gqw5...</td>\n",
              "      <td>978-6555644746</td>\n",
              "      <td>6555644745</td>\n",
              "    </tr>\n",
              "    <tr>\n",
              "      <th>3</th>\n",
              "      <td>Minha História</td>\n",
              "      <td>Um relato íntimo, poderoso e inspirador da ex-...</td>\n",
              "      <td>464 páginas</td>\n",
              "      <td>Português</td>\n",
              "      <td>Objetiva</td>\n",
              "      <td>Michelle Obama</td>\n",
              "      <td>Biografia</td>\n",
              "      <td>https://m.media-amazon.com/images/I/41L-v8+K62...</td>\n",
              "      <td>978-8547000646</td>\n",
              "      <td>854700064X</td>\n",
              "    </tr>\n",
              "    <tr>\n",
              "      <th>4</th>\n",
              "      <td>A menina da montanha: A trajetória real da ame...</td>\n",
              "      <td>Eleito o livro do ano (2018) pela Amazon. Esco...</td>\n",
              "      <td>336 páginas</td>\n",
              "      <td>Português</td>\n",
              "      <td>Rocco</td>\n",
              "      <td>Tara Westover</td>\n",
              "      <td>Biografia</td>\n",
              "      <td>https://m.media-amazon.com/images/I/51xU-8rLw2...</td>\n",
              "      <td>978-8532531223</td>\n",
              "      <td>9788532531223</td>\n",
              "    </tr>\n",
              "    <tr>\n",
              "      <th>...</th>\n",
              "      <td>...</td>\n",
              "      <td>...</td>\n",
              "      <td>...</td>\n",
              "      <td>...</td>\n",
              "      <td>...</td>\n",
              "      <td>...</td>\n",
              "      <td>...</td>\n",
              "      <td>...</td>\n",
              "      <td>...</td>\n",
              "      <td>...</td>\n",
              "    </tr>\n",
              "    <tr>\n",
              "      <th>84</th>\n",
              "      <td>Laranja Mecânica: Edição Comemorativa de 50 anos</td>\n",
              "      <td>Publicado pela primeira vez em 1962, e imortal...</td>\n",
              "      <td>352 páginas</td>\n",
              "      <td>Português</td>\n",
              "      <td>Editora Aleph</td>\n",
              "      <td>Anthony Burgess</td>\n",
              "      <td>Terror</td>\n",
              "      <td>https://m.media-amazon.com/images/I/51w6f1tDKK...</td>\n",
              "      <td>978-8576571360</td>\n",
              "      <td>8576571366</td>\n",
              "    </tr>\n",
              "    <tr>\n",
              "      <th>85</th>\n",
              "      <td>O cemitério</td>\n",
              "      <td>O livro que inspirou o filme O cemitério maldi...</td>\n",
              "      <td>424 páginas</td>\n",
              "      <td>Português</td>\n",
              "      <td>Suma</td>\n",
              "      <td>Mário Molina</td>\n",
              "      <td>Terror</td>\n",
              "      <td>https://m.media-amazon.com/images/I/41McBAhN-V...</td>\n",
              "      <td>978-8581050393</td>\n",
              "      <td>8581050395</td>\n",
              "    </tr>\n",
              "    <tr>\n",
              "      <th>86</th>\n",
              "      <td>Ghost Story</td>\n",
              "      <td>Na pacata cidadezinha de Milburn, nos Estados ...</td>\n",
              "      <td>448 páginas</td>\n",
              "      <td>Português</td>\n",
              "      <td>Darkside</td>\n",
              "      <td>Peter Straub</td>\n",
              "      <td>Terror</td>\n",
              "      <td>https://m.media-amazon.com/images/I/515rWNDKqa...</td>\n",
              "      <td>978-8594541840</td>\n",
              "      <td>8594541848</td>\n",
              "    </tr>\n",
              "    <tr>\n",
              "      <th>87</th>\n",
              "      <td>O vilarejo</td>\n",
              "      <td>lustrações coloridas dão vida a romance com el...</td>\n",
              "      <td>96 páginas</td>\n",
              "      <td>Português</td>\n",
              "      <td>Suma</td>\n",
              "      <td>Raphael Montes</td>\n",
              "      <td>Terror</td>\n",
              "      <td>https://m.media-amazon.com/images/I/41R9pm5hL-...</td>\n",
              "      <td>978-8581053042</td>\n",
              "      <td>8581053041</td>\n",
              "    </tr>\n",
              "    <tr>\n",
              "      <th>88</th>\n",
              "      <td>Carmilla - A vampira de Karnstein +: O Vampiro...</td>\n",
              "      <td>Essa edição traz a primeira vampira da históri...</td>\n",
              "      <td>176 páginas</td>\n",
              "      <td>Português</td>\n",
              "      <td>Pandorga Editora</td>\n",
              "      <td>Le Fanu J. Sheridan</td>\n",
              "      <td>Terror</td>\n",
              "      <td>https://m.media-amazon.com/images/I/51zlE2KLvQ...</td>\n",
              "      <td>978-6555791044</td>\n",
              "      <td>6555791047</td>\n",
              "    </tr>\n",
              "  </tbody>\n",
              "</table>\n",
              "<p>89 rows × 10 columns</p>\n",
              "</div>\n",
              "      <button class=\"colab-df-convert\" onclick=\"convertToInteractive('df-34ce57cc-c29a-47a7-9752-564fa9db15b3')\"\n",
              "              title=\"Convert this dataframe to an interactive table.\"\n",
              "              style=\"display:none;\">\n",
              "\n",
              "  <svg xmlns=\"http://www.w3.org/2000/svg\" height=\"24px\"viewBox=\"0 0 24 24\"\n",
              "       width=\"24px\">\n",
              "    <path d=\"M0 0h24v24H0V0z\" fill=\"none\"/>\n",
              "    <path d=\"M18.56 5.44l.94 2.06.94-2.06 2.06-.94-2.06-.94-.94-2.06-.94 2.06-2.06.94zm-11 1L8.5 8.5l.94-2.06 2.06-.94-2.06-.94L8.5 2.5l-.94 2.06-2.06.94zm10 10l.94 2.06.94-2.06 2.06-.94-2.06-.94-.94-2.06-.94 2.06-2.06.94z\"/><path d=\"M17.41 7.96l-1.37-1.37c-.4-.4-.92-.59-1.43-.59-.52 0-1.04.2-1.43.59L10.3 9.45l-7.72 7.72c-.78.78-.78 2.05 0 2.83L4 21.41c.39.39.9.59 1.41.59.51 0 1.02-.2 1.41-.59l7.78-7.78 2.81-2.81c.8-.78.8-2.07 0-2.86zM5.41 20L4 18.59l7.72-7.72 1.47 1.35L5.41 20z\"/>\n",
              "  </svg>\n",
              "      </button>\n",
              "\n",
              "\n",
              "\n",
              "    <div id=\"df-a4a80aee-ab59-4b41-975f-2b99721a4b08\">\n",
              "      <button class=\"colab-df-quickchart\" onclick=\"quickchart('df-a4a80aee-ab59-4b41-975f-2b99721a4b08')\"\n",
              "              title=\"Suggest charts.\"\n",
              "              style=\"display:none;\">\n",
              "\n",
              "<svg xmlns=\"http://www.w3.org/2000/svg\" height=\"24px\"viewBox=\"0 0 24 24\"\n",
              "     width=\"24px\">\n",
              "    <g>\n",
              "        <path d=\"M19 3H5c-1.1 0-2 .9-2 2v14c0 1.1.9 2 2 2h14c1.1 0 2-.9 2-2V5c0-1.1-.9-2-2-2zM9 17H7v-7h2v7zm4 0h-2V7h2v10zm4 0h-2v-4h2v4z\"/>\n",
              "    </g>\n",
              "</svg>\n",
              "      </button>\n",
              "    </div>\n",
              "\n",
              "<style>\n",
              "  .colab-df-quickchart {\n",
              "    background-color: #E8F0FE;\n",
              "    border: none;\n",
              "    border-radius: 50%;\n",
              "    cursor: pointer;\n",
              "    display: none;\n",
              "    fill: #1967D2;\n",
              "    height: 32px;\n",
              "    padding: 0 0 0 0;\n",
              "    width: 32px;\n",
              "  }\n",
              "\n",
              "  .colab-df-quickchart:hover {\n",
              "    background-color: #E2EBFA;\n",
              "    box-shadow: 0px 1px 2px rgba(60, 64, 67, 0.3), 0px 1px 3px 1px rgba(60, 64, 67, 0.15);\n",
              "    fill: #174EA6;\n",
              "  }\n",
              "\n",
              "  [theme=dark] .colab-df-quickchart {\n",
              "    background-color: #3B4455;\n",
              "    fill: #D2E3FC;\n",
              "  }\n",
              "\n",
              "  [theme=dark] .colab-df-quickchart:hover {\n",
              "    background-color: #434B5C;\n",
              "    box-shadow: 0px 1px 3px 1px rgba(0, 0, 0, 0.15);\n",
              "    filter: drop-shadow(0px 1px 2px rgba(0, 0, 0, 0.3));\n",
              "    fill: #FFFFFF;\n",
              "  }\n",
              "</style>\n",
              "\n",
              "    <script>\n",
              "      async function quickchart(key) {\n",
              "        const containerElement = document.querySelector('#' + key);\n",
              "        const charts = await google.colab.kernel.invokeFunction(\n",
              "            'suggestCharts', [key], {});\n",
              "      }\n",
              "    </script>\n",
              "\n",
              "      <script>\n",
              "\n",
              "function displayQuickchartButton(domScope) {\n",
              "  let quickchartButtonEl =\n",
              "    domScope.querySelector('#df-a4a80aee-ab59-4b41-975f-2b99721a4b08 button.colab-df-quickchart');\n",
              "  quickchartButtonEl.style.display =\n",
              "    google.colab.kernel.accessAllowed ? 'block' : 'none';\n",
              "}\n",
              "\n",
              "        displayQuickchartButton(document);\n",
              "      </script>\n",
              "      <style>\n",
              "    .colab-df-container {\n",
              "      display:flex;\n",
              "      flex-wrap:wrap;\n",
              "      gap: 12px;\n",
              "    }\n",
              "\n",
              "    .colab-df-convert {\n",
              "      background-color: #E8F0FE;\n",
              "      border: none;\n",
              "      border-radius: 50%;\n",
              "      cursor: pointer;\n",
              "      display: none;\n",
              "      fill: #1967D2;\n",
              "      height: 32px;\n",
              "      padding: 0 0 0 0;\n",
              "      width: 32px;\n",
              "    }\n",
              "\n",
              "    .colab-df-convert:hover {\n",
              "      background-color: #E2EBFA;\n",
              "      box-shadow: 0px 1px 2px rgba(60, 64, 67, 0.3), 0px 1px 3px 1px rgba(60, 64, 67, 0.15);\n",
              "      fill: #174EA6;\n",
              "    }\n",
              "\n",
              "    [theme=dark] .colab-df-convert {\n",
              "      background-color: #3B4455;\n",
              "      fill: #D2E3FC;\n",
              "    }\n",
              "\n",
              "    [theme=dark] .colab-df-convert:hover {\n",
              "      background-color: #434B5C;\n",
              "      box-shadow: 0px 1px 3px 1px rgba(0, 0, 0, 0.15);\n",
              "      filter: drop-shadow(0px 1px 2px rgba(0, 0, 0, 0.3));\n",
              "      fill: #FFFFFF;\n",
              "    }\n",
              "  </style>\n",
              "\n",
              "      <script>\n",
              "        const buttonEl =\n",
              "          document.querySelector('#df-34ce57cc-c29a-47a7-9752-564fa9db15b3 button.colab-df-convert');\n",
              "        buttonEl.style.display =\n",
              "          google.colab.kernel.accessAllowed ? 'block' : 'none';\n",
              "\n",
              "        async function convertToInteractive(key) {\n",
              "          const element = document.querySelector('#df-34ce57cc-c29a-47a7-9752-564fa9db15b3');\n",
              "          const dataTable =\n",
              "            await google.colab.kernel.invokeFunction('convertToInteractive',\n",
              "                                                     [key], {});\n",
              "          if (!dataTable) return;\n",
              "\n",
              "          const docLinkHtml = 'Like what you see? Visit the ' +\n",
              "            '<a target=\"_blank\" href=https://colab.research.google.com/notebooks/data_table.ipynb>data table notebook</a>'\n",
              "            + ' to learn more about interactive tables.';\n",
              "          element.innerHTML = '';\n",
              "          dataTable['output_type'] = 'display_data';\n",
              "          await google.colab.output.renderOutput(dataTable, element);\n",
              "          const docLink = document.createElement('div');\n",
              "          docLink.innerHTML = docLinkHtml;\n",
              "          element.appendChild(docLink);\n",
              "        }\n",
              "      </script>\n",
              "    </div>\n",
              "  </div>\n"
            ]
          },
          "metadata": {}
        }
      ],
      "source": [
        "df = pd.DataFrame()\n",
        "for file_path in file_paths:\n",
        "    new_data = pd.read_csv(file_path)\n",
        "    df = pd.concat([df, new_data], axis=0)\n",
        "df.drop('Unnamed: 0', axis=1, inplace=True)\n",
        "df.reset_index(drop=True, inplace=True)\n",
        "display(df)"
      ]
    },
    {
      "cell_type": "markdown",
      "metadata": {
        "id": "oUF3Ua_pjLwz"
      },
      "source": [
        "# Data info"
      ]
    },
    {
      "cell_type": "code",
      "source": [
        "df.info()"
      ],
      "metadata": {
        "colab": {
          "base_uri": "https://localhost:8080/"
        },
        "id": "tA4U-AQpnhis",
        "outputId": "9f5c31ae-5e2a-4753-a471-7c5184f1cadf"
      },
      "execution_count": 7,
      "outputs": [
        {
          "output_type": "stream",
          "name": "stdout",
          "text": [
            "<class 'pandas.core.frame.DataFrame'>\n",
            "RangeIndex: 89 entries, 0 to 88\n",
            "Data columns (total 10 columns):\n",
            " #   Column     Non-Null Count  Dtype \n",
            "---  ------     --------------  ----- \n",
            " 0   titulo     89 non-null     object\n",
            " 1   descricao  89 non-null     object\n",
            " 2   paginas    89 non-null     object\n",
            " 3   idioma     89 non-null     object\n",
            " 4   editora    87 non-null     object\n",
            " 5   autor      89 non-null     object\n",
            " 6   genero     89 non-null     object\n",
            " 7   img_link   89 non-null     object\n",
            " 8   isbn_13    89 non-null     object\n",
            " 9   isbn_10    89 non-null     object\n",
            "dtypes: object(10)\n",
            "memory usage: 7.1+ KB\n"
          ]
        }
      ]
    },
    {
      "cell_type": "code",
      "execution_count": 8,
      "metadata": {
        "id": "lS8aSQ6UjLwz",
        "outputId": "6e64c836-07cf-44f7-fb7e-5347dab14902",
        "colab": {
          "base_uri": "https://localhost:8080/"
        }
      },
      "outputs": [
        {
          "output_type": "execute_result",
          "data": {
            "text/plain": [
              "(89, 10)"
            ]
          },
          "metadata": {},
          "execution_count": 8
        }
      ],
      "source": [
        "df.shape"
      ]
    },
    {
      "cell_type": "code",
      "execution_count": 9,
      "metadata": {
        "id": "EyxYKDyyjLw0",
        "outputId": "0e566206-4a34-430c-8423-4f922a81a4f4",
        "colab": {
          "base_uri": "https://localhost:8080/"
        }
      },
      "outputs": [
        {
          "output_type": "execute_result",
          "data": {
            "text/plain": [
              "titulo       0\n",
              "descricao    0\n",
              "paginas      0\n",
              "idioma       0\n",
              "editora      2\n",
              "autor        0\n",
              "genero       0\n",
              "img_link     0\n",
              "isbn_13      0\n",
              "isbn_10      0\n",
              "dtype: int64"
            ]
          },
          "metadata": {},
          "execution_count": 9
        }
      ],
      "source": [
        "df.isnull().sum()"
      ]
    },
    {
      "cell_type": "markdown",
      "metadata": {
        "id": "JywxrsDFjLw0"
      },
      "source": [
        "# Data pre-processing"
      ]
    },
    {
      "cell_type": "markdown",
      "metadata": {
        "id": "C7Q29_5MjLw0"
      },
      "source": [
        "* Alterar coluna 'paginas' para int\n",
        "* Corrigir erro de informação na coluna 'editora'"
      ]
    },
    {
      "cell_type": "code",
      "execution_count": 10,
      "outputs": [
        {
          "output_type": "execute_result",
          "data": {
            "text/plain": [
              "Biografia                      10\n",
              "Ciências                       10\n",
              "Desenvolvimento Pessoal        10\n",
              "Ficção Científica              10\n",
              "Negócios e Empreendedorismo    10\n",
              "Romance                        10\n",
              "Tecnologia                     10\n",
              "Terror                         10\n",
              "Economia                        9\n",
              "Name: genero, dtype: int64"
            ]
          },
          "metadata": {},
          "execution_count": 10
        }
      ],
      "source": [
        "df['genero'].value_counts()"
      ],
      "metadata": {
        "id": "sMprJCiGjLw1",
        "outputId": "a37f1191-9942-432e-c709-82cec8478ad7",
        "colab": {
          "base_uri": "https://localhost:8080/"
        }
      }
    },
    {
      "cell_type": "markdown",
      "metadata": {
        "id": "Pz4sLTVPjLw1"
      },
      "source": [
        "## Column 'page'"
      ]
    },
    {
      "cell_type": "code",
      "execution_count": 11,
      "metadata": {
        "id": "2S71kbuCjLw1",
        "outputId": "c5a55bdf-41a9-460a-9687-6a91243f2e25",
        "colab": {
          "base_uri": "https://localhost:8080/"
        }
      },
      "outputs": [
        {
          "output_type": "execute_result",
          "data": {
            "text/plain": [
              "0     408\n",
              "1     120\n",
              "2     256\n",
              "3     464\n",
              "4     336\n",
              "     ... \n",
              "84    352\n",
              "85    424\n",
              "86    448\n",
              "87     96\n",
              "88    176\n",
              "Name: paginas, Length: 89, dtype: object"
            ]
          },
          "metadata": {},
          "execution_count": 11
        }
      ],
      "source": [
        "new_page_data = []\n",
        "for pagina in df['paginas']:\n",
        "    new_page_data.append(pagina.replace(' páginas', ''))\n",
        "df['paginas'] = new_page_data\n",
        "df['paginas']"
      ]
    },
    {
      "cell_type": "markdown",
      "source": [
        "## Column 'editora'"
      ],
      "metadata": {
        "collapsed": false,
        "id": "TyExLSW-jLw2"
      }
    },
    {
      "cell_type": "code",
      "execution_count": 12,
      "outputs": [
        {
          "output_type": "execute_result",
          "data": {
            "text/plain": [
              "0             Garoa Livros\n",
              "1     Companhia das Letras\n",
              "2         Editora Sextante\n",
              "3                 Objetiva\n",
              "4                    Rocco\n",
              "              ...         \n",
              "84           Editora Aleph\n",
              "85                    Suma\n",
              "86                Darkside\n",
              "87                    Suma\n",
              "88        Pandorga Editora\n",
              "Name: editora, Length: 89, dtype: object"
            ]
          },
          "metadata": {},
          "execution_count": 12
        }
      ],
      "source": [
        "df['editora']"
      ],
      "metadata": {
        "id": "KJpqc53zjLw2",
        "outputId": "a0629496-230a-4728-991b-c6b29bdea50e",
        "colab": {
          "base_uri": "https://localhost:8080/"
        }
      }
    },
    {
      "cell_type": "code",
      "execution_count": 22,
      "outputs": [
        {
          "output_type": "execute_result",
          "data": {
            "text/plain": [
              "Editora Sextante                           7\n",
              "Companhia das Letras                       6\n",
              "Alta Books                                 6\n",
              "Intrínseca                                 6\n",
              "Novatec Editora                            6\n",
              "Editora Arqueiro                           4\n",
              "Globo Livros                               4\n",
              "Contexto                                   3\n",
              "Thomas Nelson Brasil                       3\n",
              "HarperCollins                              3\n",
              "Suma                                       3\n",
              "Objetiva                                   3\n",
              "BestSeller                                 2\n",
              "Astral Cultural                            2\n",
              "Editora Aleph                              2\n",
              "Universo geek                              2\n",
              "Novo Século                                1\n",
              "Darkside                                   1\n",
              "Gente                                      1\n",
              "DVS EDITORA                                1\n",
              "Galera                                     1\n",
              "Verus                                      1\n",
              "LTC                                        1\n",
              "Paralela                                   1\n",
              "Pearson Education Limited                  1\n",
              "Bookman                                    1\n",
              "Best Business                              1\n",
              "Garoa Livros                               1\n",
              "Editora Senac Rio                          1\n",
              "Bertrand Brasil                            1\n",
              "Talentos da Literatura Brasileira          1\n",
              "Boitempo Editorial                         1\n",
              "LVM Editora                                1\n",
              "Access Consciousness Publishing Company    1\n",
              "Academia                                   1\n",
              "Alta Life                                  1\n",
              "HarperKids                                 1\n",
              "Todavia                                    1\n",
              "Principis                                  1\n",
              "Rocco                                      1\n",
              "Pandorga Editora                           1\n",
              "Name: editora, dtype: int64"
            ]
          },
          "metadata": {},
          "execution_count": 22
        }
      ],
      "source": [
        "df['editora'].value_counts()"
      ],
      "metadata": {
        "id": "SoYj3wNajLw3",
        "outputId": "57655307-74b9-4ed7-bde2-792b0e9d9a72",
        "colab": {
          "base_uri": "https://localhost:8080/"
        }
      }
    },
    {
      "cell_type": "markdown",
      "source": [
        "# Exporting to csv"
      ],
      "metadata": {
        "collapsed": false,
        "id": "HvohwOy2jLw9"
      }
    },
    {
      "cell_type": "code",
      "source": [
        "import os\n",
        "os.mkdir('resultado')"
      ],
      "metadata": {
        "id": "GfcGMRkbS8TT"
      },
      "execution_count": 25,
      "outputs": []
    },
    {
      "cell_type": "code",
      "execution_count": 27,
      "outputs": [],
      "source": [
        "df.to_json('./resultado/livros.json')"
      ],
      "metadata": {
        "id": "ps5drjSWjLw9"
      }
    },
    {
      "cell_type": "code",
      "execution_count": 28,
      "outputs": [
        {
          "output_type": "execute_result",
          "data": {
            "text/plain": [
              "                                               titulo  \\\n",
              "0   Cabeça Fria, Coração Quente: Uma viagem pelos ...   \n",
              "1                   Quem tem medo do feminismo negro?   \n",
              "2   O rei dos dividendos: A saga do filho de imigr...   \n",
              "3                                      Minha História   \n",
              "4   A menina da montanha: A trajetória real da ame...   \n",
              "..                                                ...   \n",
              "84   Laranja Mecânica: Edição Comemorativa de 50 anos   \n",
              "85                                        O cemitério   \n",
              "86                                        Ghost Story   \n",
              "87                                         O vilarejo   \n",
              "88  Carmilla - A vampira de Karnstein +: O Vampiro...   \n",
              "\n",
              "                                            descricao  paginas     idioma  \\\n",
              "0   Escrito em primeira pessoa pela equipa técnica...      408  Português   \n",
              "1   \"Um livro essencial e urgente, pois enquanto m...      120  Português   \n",
              "2   \"O livro que você tem em mãos é uma inspiração...      256  Português   \n",
              "3   Um relato íntimo, poderoso e inspirador da ex-...      464  Português   \n",
              "4   Eleito o livro do ano (2018) pela Amazon. Esco...      336  Português   \n",
              "..                                                ...      ...        ...   \n",
              "84  Publicado pela primeira vez em 1962, e imortal...      352  Português   \n",
              "85  O livro que inspirou o filme O cemitério maldi...      424  Português   \n",
              "86  Na pacata cidadezinha de Milburn, nos Estados ...      448  Português   \n",
              "87  lustrações coloridas dão vida a romance com el...       96  Português   \n",
              "88  Essa edição traz a primeira vampira da históri...      176  Português   \n",
              "\n",
              "                 editora                autor     genero  \\\n",
              "0           Garoa Livros        Abel Ferreira  Biografia   \n",
              "1   Companhia das Letras      Djamila Ribeiro  Biografia   \n",
              "2       Editora Sextante     Luiz Barsi Filho  Biografia   \n",
              "3               Objetiva       Michelle Obama  Biografia   \n",
              "4                  Rocco        Tara Westover  Biografia   \n",
              "..                   ...                  ...        ...   \n",
              "84         Editora Aleph      Anthony Burgess     Terror   \n",
              "85                  Suma         Mário Molina     Terror   \n",
              "86              Darkside         Peter Straub     Terror   \n",
              "87                  Suma       Raphael Montes     Terror   \n",
              "88      Pandorga Editora  Le Fanu J. Sheridan     Terror   \n",
              "\n",
              "                                             img_link         isbn_13  \\\n",
              "0   https://m.media-amazon.com/images/I/413zVMkCRV...  978-6599096389   \n",
              "1   https://m.media-amazon.com/images/I/41lj0rgZ5W...  978-8535931136   \n",
              "2   https://m.media-amazon.com/images/I/51nBC1gqw5...  978-6555644746   \n",
              "3   https://m.media-amazon.com/images/I/41L-v8+K62...  978-8547000646   \n",
              "4   https://m.media-amazon.com/images/I/51xU-8rLw2...  978-8532531223   \n",
              "..                                                ...             ...   \n",
              "84  https://m.media-amazon.com/images/I/51w6f1tDKK...  978-8576571360   \n",
              "85  https://m.media-amazon.com/images/I/41McBAhN-V...  978-8581050393   \n",
              "86  https://m.media-amazon.com/images/I/515rWNDKqa...  978-8594541840   \n",
              "87  https://m.media-amazon.com/images/I/41R9pm5hL-...  978-8581053042   \n",
              "88  https://m.media-amazon.com/images/I/51zlE2KLvQ...  978-6555791044   \n",
              "\n",
              "          isbn_10  \n",
              "0      6599096387  \n",
              "1      8535931139  \n",
              "2      6555644745  \n",
              "3      854700064X  \n",
              "4   9788532531223  \n",
              "..            ...  \n",
              "84     8576571366  \n",
              "85     8581050395  \n",
              "86     8594541848  \n",
              "87     8581053041  \n",
              "88     6555791047  \n",
              "\n",
              "[89 rows x 10 columns]"
            ],
            "text/html": [
              "\n",
              "\n",
              "  <div id=\"df-9b91a9f5-945d-4434-96f6-29e39cdcf082\">\n",
              "    <div class=\"colab-df-container\">\n",
              "      <div>\n",
              "<style scoped>\n",
              "    .dataframe tbody tr th:only-of-type {\n",
              "        vertical-align: middle;\n",
              "    }\n",
              "\n",
              "    .dataframe tbody tr th {\n",
              "        vertical-align: top;\n",
              "    }\n",
              "\n",
              "    .dataframe thead th {\n",
              "        text-align: right;\n",
              "    }\n",
              "</style>\n",
              "<table border=\"1\" class=\"dataframe\">\n",
              "  <thead>\n",
              "    <tr style=\"text-align: right;\">\n",
              "      <th></th>\n",
              "      <th>titulo</th>\n",
              "      <th>descricao</th>\n",
              "      <th>paginas</th>\n",
              "      <th>idioma</th>\n",
              "      <th>editora</th>\n",
              "      <th>autor</th>\n",
              "      <th>genero</th>\n",
              "      <th>img_link</th>\n",
              "      <th>isbn_13</th>\n",
              "      <th>isbn_10</th>\n",
              "    </tr>\n",
              "  </thead>\n",
              "  <tbody>\n",
              "    <tr>\n",
              "      <th>0</th>\n",
              "      <td>Cabeça Fria, Coração Quente: Uma viagem pelos ...</td>\n",
              "      <td>Escrito em primeira pessoa pela equipa técnica...</td>\n",
              "      <td>408</td>\n",
              "      <td>Português</td>\n",
              "      <td>Garoa Livros</td>\n",
              "      <td>Abel Ferreira</td>\n",
              "      <td>Biografia</td>\n",
              "      <td>https://m.media-amazon.com/images/I/413zVMkCRV...</td>\n",
              "      <td>978-6599096389</td>\n",
              "      <td>6599096387</td>\n",
              "    </tr>\n",
              "    <tr>\n",
              "      <th>1</th>\n",
              "      <td>Quem tem medo do feminismo negro?</td>\n",
              "      <td>\"Um livro essencial e urgente, pois enquanto m...</td>\n",
              "      <td>120</td>\n",
              "      <td>Português</td>\n",
              "      <td>Companhia das Letras</td>\n",
              "      <td>Djamila Ribeiro</td>\n",
              "      <td>Biografia</td>\n",
              "      <td>https://m.media-amazon.com/images/I/41lj0rgZ5W...</td>\n",
              "      <td>978-8535931136</td>\n",
              "      <td>8535931139</td>\n",
              "    </tr>\n",
              "    <tr>\n",
              "      <th>2</th>\n",
              "      <td>O rei dos dividendos: A saga do filho de imigr...</td>\n",
              "      <td>\"O livro que você tem em mãos é uma inspiração...</td>\n",
              "      <td>256</td>\n",
              "      <td>Português</td>\n",
              "      <td>Editora Sextante</td>\n",
              "      <td>Luiz Barsi Filho</td>\n",
              "      <td>Biografia</td>\n",
              "      <td>https://m.media-amazon.com/images/I/51nBC1gqw5...</td>\n",
              "      <td>978-6555644746</td>\n",
              "      <td>6555644745</td>\n",
              "    </tr>\n",
              "    <tr>\n",
              "      <th>3</th>\n",
              "      <td>Minha História</td>\n",
              "      <td>Um relato íntimo, poderoso e inspirador da ex-...</td>\n",
              "      <td>464</td>\n",
              "      <td>Português</td>\n",
              "      <td>Objetiva</td>\n",
              "      <td>Michelle Obama</td>\n",
              "      <td>Biografia</td>\n",
              "      <td>https://m.media-amazon.com/images/I/41L-v8+K62...</td>\n",
              "      <td>978-8547000646</td>\n",
              "      <td>854700064X</td>\n",
              "    </tr>\n",
              "    <tr>\n",
              "      <th>4</th>\n",
              "      <td>A menina da montanha: A trajetória real da ame...</td>\n",
              "      <td>Eleito o livro do ano (2018) pela Amazon. Esco...</td>\n",
              "      <td>336</td>\n",
              "      <td>Português</td>\n",
              "      <td>Rocco</td>\n",
              "      <td>Tara Westover</td>\n",
              "      <td>Biografia</td>\n",
              "      <td>https://m.media-amazon.com/images/I/51xU-8rLw2...</td>\n",
              "      <td>978-8532531223</td>\n",
              "      <td>9788532531223</td>\n",
              "    </tr>\n",
              "    <tr>\n",
              "      <th>...</th>\n",
              "      <td>...</td>\n",
              "      <td>...</td>\n",
              "      <td>...</td>\n",
              "      <td>...</td>\n",
              "      <td>...</td>\n",
              "      <td>...</td>\n",
              "      <td>...</td>\n",
              "      <td>...</td>\n",
              "      <td>...</td>\n",
              "      <td>...</td>\n",
              "    </tr>\n",
              "    <tr>\n",
              "      <th>84</th>\n",
              "      <td>Laranja Mecânica: Edição Comemorativa de 50 anos</td>\n",
              "      <td>Publicado pela primeira vez em 1962, e imortal...</td>\n",
              "      <td>352</td>\n",
              "      <td>Português</td>\n",
              "      <td>Editora Aleph</td>\n",
              "      <td>Anthony Burgess</td>\n",
              "      <td>Terror</td>\n",
              "      <td>https://m.media-amazon.com/images/I/51w6f1tDKK...</td>\n",
              "      <td>978-8576571360</td>\n",
              "      <td>8576571366</td>\n",
              "    </tr>\n",
              "    <tr>\n",
              "      <th>85</th>\n",
              "      <td>O cemitério</td>\n",
              "      <td>O livro que inspirou o filme O cemitério maldi...</td>\n",
              "      <td>424</td>\n",
              "      <td>Português</td>\n",
              "      <td>Suma</td>\n",
              "      <td>Mário Molina</td>\n",
              "      <td>Terror</td>\n",
              "      <td>https://m.media-amazon.com/images/I/41McBAhN-V...</td>\n",
              "      <td>978-8581050393</td>\n",
              "      <td>8581050395</td>\n",
              "    </tr>\n",
              "    <tr>\n",
              "      <th>86</th>\n",
              "      <td>Ghost Story</td>\n",
              "      <td>Na pacata cidadezinha de Milburn, nos Estados ...</td>\n",
              "      <td>448</td>\n",
              "      <td>Português</td>\n",
              "      <td>Darkside</td>\n",
              "      <td>Peter Straub</td>\n",
              "      <td>Terror</td>\n",
              "      <td>https://m.media-amazon.com/images/I/515rWNDKqa...</td>\n",
              "      <td>978-8594541840</td>\n",
              "      <td>8594541848</td>\n",
              "    </tr>\n",
              "    <tr>\n",
              "      <th>87</th>\n",
              "      <td>O vilarejo</td>\n",
              "      <td>lustrações coloridas dão vida a romance com el...</td>\n",
              "      <td>96</td>\n",
              "      <td>Português</td>\n",
              "      <td>Suma</td>\n",
              "      <td>Raphael Montes</td>\n",
              "      <td>Terror</td>\n",
              "      <td>https://m.media-amazon.com/images/I/41R9pm5hL-...</td>\n",
              "      <td>978-8581053042</td>\n",
              "      <td>8581053041</td>\n",
              "    </tr>\n",
              "    <tr>\n",
              "      <th>88</th>\n",
              "      <td>Carmilla - A vampira de Karnstein +: O Vampiro...</td>\n",
              "      <td>Essa edição traz a primeira vampira da históri...</td>\n",
              "      <td>176</td>\n",
              "      <td>Português</td>\n",
              "      <td>Pandorga Editora</td>\n",
              "      <td>Le Fanu J. Sheridan</td>\n",
              "      <td>Terror</td>\n",
              "      <td>https://m.media-amazon.com/images/I/51zlE2KLvQ...</td>\n",
              "      <td>978-6555791044</td>\n",
              "      <td>6555791047</td>\n",
              "    </tr>\n",
              "  </tbody>\n",
              "</table>\n",
              "<p>89 rows × 10 columns</p>\n",
              "</div>\n",
              "      <button class=\"colab-df-convert\" onclick=\"convertToInteractive('df-9b91a9f5-945d-4434-96f6-29e39cdcf082')\"\n",
              "              title=\"Convert this dataframe to an interactive table.\"\n",
              "              style=\"display:none;\">\n",
              "\n",
              "  <svg xmlns=\"http://www.w3.org/2000/svg\" height=\"24px\"viewBox=\"0 0 24 24\"\n",
              "       width=\"24px\">\n",
              "    <path d=\"M0 0h24v24H0V0z\" fill=\"none\"/>\n",
              "    <path d=\"M18.56 5.44l.94 2.06.94-2.06 2.06-.94-2.06-.94-.94-2.06-.94 2.06-2.06.94zm-11 1L8.5 8.5l.94-2.06 2.06-.94-2.06-.94L8.5 2.5l-.94 2.06-2.06.94zm10 10l.94 2.06.94-2.06 2.06-.94-2.06-.94-.94-2.06-.94 2.06-2.06.94z\"/><path d=\"M17.41 7.96l-1.37-1.37c-.4-.4-.92-.59-1.43-.59-.52 0-1.04.2-1.43.59L10.3 9.45l-7.72 7.72c-.78.78-.78 2.05 0 2.83L4 21.41c.39.39.9.59 1.41.59.51 0 1.02-.2 1.41-.59l7.78-7.78 2.81-2.81c.8-.78.8-2.07 0-2.86zM5.41 20L4 18.59l7.72-7.72 1.47 1.35L5.41 20z\"/>\n",
              "  </svg>\n",
              "      </button>\n",
              "\n",
              "\n",
              "\n",
              "    <div id=\"df-60c7ca6d-10ed-4bba-9860-3d2e84600d1f\">\n",
              "      <button class=\"colab-df-quickchart\" onclick=\"quickchart('df-60c7ca6d-10ed-4bba-9860-3d2e84600d1f')\"\n",
              "              title=\"Suggest charts.\"\n",
              "              style=\"display:none;\">\n",
              "\n",
              "<svg xmlns=\"http://www.w3.org/2000/svg\" height=\"24px\"viewBox=\"0 0 24 24\"\n",
              "     width=\"24px\">\n",
              "    <g>\n",
              "        <path d=\"M19 3H5c-1.1 0-2 .9-2 2v14c0 1.1.9 2 2 2h14c1.1 0 2-.9 2-2V5c0-1.1-.9-2-2-2zM9 17H7v-7h2v7zm4 0h-2V7h2v10zm4 0h-2v-4h2v4z\"/>\n",
              "    </g>\n",
              "</svg>\n",
              "      </button>\n",
              "    </div>\n",
              "\n",
              "<style>\n",
              "  .colab-df-quickchart {\n",
              "    background-color: #E8F0FE;\n",
              "    border: none;\n",
              "    border-radius: 50%;\n",
              "    cursor: pointer;\n",
              "    display: none;\n",
              "    fill: #1967D2;\n",
              "    height: 32px;\n",
              "    padding: 0 0 0 0;\n",
              "    width: 32px;\n",
              "  }\n",
              "\n",
              "  .colab-df-quickchart:hover {\n",
              "    background-color: #E2EBFA;\n",
              "    box-shadow: 0px 1px 2px rgba(60, 64, 67, 0.3), 0px 1px 3px 1px rgba(60, 64, 67, 0.15);\n",
              "    fill: #174EA6;\n",
              "  }\n",
              "\n",
              "  [theme=dark] .colab-df-quickchart {\n",
              "    background-color: #3B4455;\n",
              "    fill: #D2E3FC;\n",
              "  }\n",
              "\n",
              "  [theme=dark] .colab-df-quickchart:hover {\n",
              "    background-color: #434B5C;\n",
              "    box-shadow: 0px 1px 3px 1px rgba(0, 0, 0, 0.15);\n",
              "    filter: drop-shadow(0px 1px 2px rgba(0, 0, 0, 0.3));\n",
              "    fill: #FFFFFF;\n",
              "  }\n",
              "</style>\n",
              "\n",
              "    <script>\n",
              "      async function quickchart(key) {\n",
              "        const containerElement = document.querySelector('#' + key);\n",
              "        const charts = await google.colab.kernel.invokeFunction(\n",
              "            'suggestCharts', [key], {});\n",
              "      }\n",
              "    </script>\n",
              "\n",
              "      <script>\n",
              "\n",
              "function displayQuickchartButton(domScope) {\n",
              "  let quickchartButtonEl =\n",
              "    domScope.querySelector('#df-60c7ca6d-10ed-4bba-9860-3d2e84600d1f button.colab-df-quickchart');\n",
              "  quickchartButtonEl.style.display =\n",
              "    google.colab.kernel.accessAllowed ? 'block' : 'none';\n",
              "}\n",
              "\n",
              "        displayQuickchartButton(document);\n",
              "      </script>\n",
              "      <style>\n",
              "    .colab-df-container {\n",
              "      display:flex;\n",
              "      flex-wrap:wrap;\n",
              "      gap: 12px;\n",
              "    }\n",
              "\n",
              "    .colab-df-convert {\n",
              "      background-color: #E8F0FE;\n",
              "      border: none;\n",
              "      border-radius: 50%;\n",
              "      cursor: pointer;\n",
              "      display: none;\n",
              "      fill: #1967D2;\n",
              "      height: 32px;\n",
              "      padding: 0 0 0 0;\n",
              "      width: 32px;\n",
              "    }\n",
              "\n",
              "    .colab-df-convert:hover {\n",
              "      background-color: #E2EBFA;\n",
              "      box-shadow: 0px 1px 2px rgba(60, 64, 67, 0.3), 0px 1px 3px 1px rgba(60, 64, 67, 0.15);\n",
              "      fill: #174EA6;\n",
              "    }\n",
              "\n",
              "    [theme=dark] .colab-df-convert {\n",
              "      background-color: #3B4455;\n",
              "      fill: #D2E3FC;\n",
              "    }\n",
              "\n",
              "    [theme=dark] .colab-df-convert:hover {\n",
              "      background-color: #434B5C;\n",
              "      box-shadow: 0px 1px 3px 1px rgba(0, 0, 0, 0.15);\n",
              "      filter: drop-shadow(0px 1px 2px rgba(0, 0, 0, 0.3));\n",
              "      fill: #FFFFFF;\n",
              "    }\n",
              "  </style>\n",
              "\n",
              "      <script>\n",
              "        const buttonEl =\n",
              "          document.querySelector('#df-9b91a9f5-945d-4434-96f6-29e39cdcf082 button.colab-df-convert');\n",
              "        buttonEl.style.display =\n",
              "          google.colab.kernel.accessAllowed ? 'block' : 'none';\n",
              "\n",
              "        async function convertToInteractive(key) {\n",
              "          const element = document.querySelector('#df-9b91a9f5-945d-4434-96f6-29e39cdcf082');\n",
              "          const dataTable =\n",
              "            await google.colab.kernel.invokeFunction('convertToInteractive',\n",
              "                                                     [key], {});\n",
              "          if (!dataTable) return;\n",
              "\n",
              "          const docLinkHtml = 'Like what you see? Visit the ' +\n",
              "            '<a target=\"_blank\" href=https://colab.research.google.com/notebooks/data_table.ipynb>data table notebook</a>'\n",
              "            + ' to learn more about interactive tables.';\n",
              "          element.innerHTML = '';\n",
              "          dataTable['output_type'] = 'display_data';\n",
              "          await google.colab.output.renderOutput(dataTable, element);\n",
              "          const docLink = document.createElement('div');\n",
              "          docLink.innerHTML = docLinkHtml;\n",
              "          element.appendChild(docLink);\n",
              "        }\n",
              "      </script>\n",
              "    </div>\n",
              "  </div>\n"
            ]
          },
          "metadata": {},
          "execution_count": 28
        }
      ],
      "source": [
        "pd.read_json('./resultado/livros.json')"
      ],
      "metadata": {
        "id": "bONHYY2_jLw9",
        "outputId": "036f2245-b4b3-48aa-e2e3-35ed9df07fe8",
        "colab": {
          "base_uri": "https://localhost:8080/",
          "height": 424
        }
      }
    }
  ],
  "metadata": {
    "kernelspec": {
      "display_name": "Python 3 (ipykernel)",
      "language": "python",
      "name": "python3"
    },
    "language_info": {
      "codemirror_mode": {
        "name": "ipython",
        "version": 3
      },
      "file_extension": ".py",
      "mimetype": "text/x-python",
      "name": "python",
      "nbconvert_exporter": "python",
      "pygments_lexer": "ipython3",
      "version": "3.10.6"
    },
    "colab": {
      "provenance": []
    }
  },
  "nbformat": 4,
  "nbformat_minor": 0
}